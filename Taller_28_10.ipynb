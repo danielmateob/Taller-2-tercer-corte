{
  "nbformat": 4,
  "nbformat_minor": 0,
  "metadata": {
    "colab": {
      "provenance": []
    },
    "kernelspec": {
      "name": "python3",
      "display_name": "Python 3"
    },
    "language_info": {
      "name": "python"
    }
  },
  "cells": [
    {
      "cell_type": "markdown",
      "source": [
        "#*Taller 2*\n",
        "###Laura Hernandez\n",
        "###Daniel Bernal\n",
        "###Cristina Vidales"
      ],
      "metadata": {
        "id": "g_ZUE7Y9mT2z"
      }
    },
    {
      "cell_type": "code",
      "execution_count": 209,
      "metadata": {
        "id": "oXw5cPIAlrCF"
      },
      "outputs": [],
      "source": [
        "import pandas as pd\n",
        "import numpy as np\n",
        "import statsmodels.api as sm\n",
        "import matplotlib.pyplot as plt\n",
        "import seaborn as seaborn"
      ]
    },
    {
      "cell_type": "code",
      "source": [
        "df = pd.read_csv ('archivo.csv')"
      ],
      "metadata": {
        "id": "29rc4J2Hmel3"
      },
      "execution_count": 210,
      "outputs": []
    },
    {
      "cell_type": "markdown",
      "source": [
        "# Analisis exploratorio de datos"
      ],
      "metadata": {
        "id": "T0QjDTaynN5T"
      }
    },
    {
      "cell_type": "code",
      "source": [
        "df.head(n=10) #10 primeros datos de la tabla"
      ],
      "metadata": {
        "colab": {
          "base_uri": "https://localhost:8080/",
          "height": 635
        },
        "id": "LA5AZJAsnE5a",
        "outputId": "8d87edb9-be34-4613-a8a4-9a8eef80b42f"
      },
      "execution_count": 211,
      "outputs": [
        {
          "output_type": "execute_result",
          "data": {
            "text/plain": [
              "     Country  SeeWhales   Age  Gender             Education  \\\n",
              "0  Australia          1  31.0  Female               Diploma   \n",
              "1         UK          0  22.0  Female                Degree   \n",
              "2        USA          0  46.0  Female                Degree   \n",
              "3     France          0  37.0  Female               Diploma   \n",
              "4         UK          0  66.0  Female                Degree   \n",
              "5  Australia          0  65.0    Male  Post-graduate degree   \n",
              "6  Australia          0  49.0    Male  Post-graduate degree   \n",
              "7         UK          0  38.0  Female  Post-graduate degree   \n",
              "8  Australia          0  54.0    Male     Completed year 12   \n",
              "9  Australia          0  59.0  Female     Completed year 10   \n",
              "\n",
              "          Income_AUD   Income  AdultWhales YoungWhales  Max_wtp   wtp  \\\n",
              "0  $60,001 - $70,000  65000.5            2         Yes      0.0  Less   \n",
              "1  Less than $20,000  10000.0            6          No      0.0  More   \n",
              "2  More than $70,000  85000.5            7          No      0.0  More   \n",
              "3  $20,001 - $30,000  25000.5            4         Yes      0.0  More   \n",
              "4                NaN      NaN            6          No      0.0  More   \n",
              "5  $40,001 - $50,000  45000.5            3         Yes      1.0  Same   \n",
              "6  $20,001 - $30,000  25000.5            2          No      2.0  Less   \n",
              "7  More than $70,000  85000.5            0         Yes      0.0  More   \n",
              "8  More than $70,000  85000.5            6         Yes      5.0  Same   \n",
              "9  Less than $20,000  10000.0            4          No      0.0  More   \n",
              "\n",
              "   PayConserve  \n",
              "0            1  \n",
              "1            0  \n",
              "2            0  \n",
              "3            1  \n",
              "4            0  \n",
              "5            1  \n",
              "6            1  \n",
              "7            0  \n",
              "8            1  \n",
              "9            0  "
            ],
            "text/html": [
              "\n",
              "  <div id=\"df-86670c13-b5fb-49da-ab26-294cdcb7a94d\">\n",
              "    <div class=\"colab-df-container\">\n",
              "      <div>\n",
              "<style scoped>\n",
              "    .dataframe tbody tr th:only-of-type {\n",
              "        vertical-align: middle;\n",
              "    }\n",
              "\n",
              "    .dataframe tbody tr th {\n",
              "        vertical-align: top;\n",
              "    }\n",
              "\n",
              "    .dataframe thead th {\n",
              "        text-align: right;\n",
              "    }\n",
              "</style>\n",
              "<table border=\"1\" class=\"dataframe\">\n",
              "  <thead>\n",
              "    <tr style=\"text-align: right;\">\n",
              "      <th></th>\n",
              "      <th>Country</th>\n",
              "      <th>SeeWhales</th>\n",
              "      <th>Age</th>\n",
              "      <th>Gender</th>\n",
              "      <th>Education</th>\n",
              "      <th>Income_AUD</th>\n",
              "      <th>Income</th>\n",
              "      <th>AdultWhales</th>\n",
              "      <th>YoungWhales</th>\n",
              "      <th>Max_wtp</th>\n",
              "      <th>wtp</th>\n",
              "      <th>PayConserve</th>\n",
              "    </tr>\n",
              "  </thead>\n",
              "  <tbody>\n",
              "    <tr>\n",
              "      <th>0</th>\n",
              "      <td>Australia</td>\n",
              "      <td>1</td>\n",
              "      <td>31.0</td>\n",
              "      <td>Female</td>\n",
              "      <td>Diploma</td>\n",
              "      <td>$60,001 - $70,000</td>\n",
              "      <td>65000.5</td>\n",
              "      <td>2</td>\n",
              "      <td>Yes</td>\n",
              "      <td>0.0</td>\n",
              "      <td>Less</td>\n",
              "      <td>1</td>\n",
              "    </tr>\n",
              "    <tr>\n",
              "      <th>1</th>\n",
              "      <td>UK</td>\n",
              "      <td>0</td>\n",
              "      <td>22.0</td>\n",
              "      <td>Female</td>\n",
              "      <td>Degree</td>\n",
              "      <td>Less than $20,000</td>\n",
              "      <td>10000.0</td>\n",
              "      <td>6</td>\n",
              "      <td>No</td>\n",
              "      <td>0.0</td>\n",
              "      <td>More</td>\n",
              "      <td>0</td>\n",
              "    </tr>\n",
              "    <tr>\n",
              "      <th>2</th>\n",
              "      <td>USA</td>\n",
              "      <td>0</td>\n",
              "      <td>46.0</td>\n",
              "      <td>Female</td>\n",
              "      <td>Degree</td>\n",
              "      <td>More than $70,000</td>\n",
              "      <td>85000.5</td>\n",
              "      <td>7</td>\n",
              "      <td>No</td>\n",
              "      <td>0.0</td>\n",
              "      <td>More</td>\n",
              "      <td>0</td>\n",
              "    </tr>\n",
              "    <tr>\n",
              "      <th>3</th>\n",
              "      <td>France</td>\n",
              "      <td>0</td>\n",
              "      <td>37.0</td>\n",
              "      <td>Female</td>\n",
              "      <td>Diploma</td>\n",
              "      <td>$20,001 - $30,000</td>\n",
              "      <td>25000.5</td>\n",
              "      <td>4</td>\n",
              "      <td>Yes</td>\n",
              "      <td>0.0</td>\n",
              "      <td>More</td>\n",
              "      <td>1</td>\n",
              "    </tr>\n",
              "    <tr>\n",
              "      <th>4</th>\n",
              "      <td>UK</td>\n",
              "      <td>0</td>\n",
              "      <td>66.0</td>\n",
              "      <td>Female</td>\n",
              "      <td>Degree</td>\n",
              "      <td>NaN</td>\n",
              "      <td>NaN</td>\n",
              "      <td>6</td>\n",
              "      <td>No</td>\n",
              "      <td>0.0</td>\n",
              "      <td>More</td>\n",
              "      <td>0</td>\n",
              "    </tr>\n",
              "    <tr>\n",
              "      <th>5</th>\n",
              "      <td>Australia</td>\n",
              "      <td>0</td>\n",
              "      <td>65.0</td>\n",
              "      <td>Male</td>\n",
              "      <td>Post-graduate degree</td>\n",
              "      <td>$40,001 - $50,000</td>\n",
              "      <td>45000.5</td>\n",
              "      <td>3</td>\n",
              "      <td>Yes</td>\n",
              "      <td>1.0</td>\n",
              "      <td>Same</td>\n",
              "      <td>1</td>\n",
              "    </tr>\n",
              "    <tr>\n",
              "      <th>6</th>\n",
              "      <td>Australia</td>\n",
              "      <td>0</td>\n",
              "      <td>49.0</td>\n",
              "      <td>Male</td>\n",
              "      <td>Post-graduate degree</td>\n",
              "      <td>$20,001 - $30,000</td>\n",
              "      <td>25000.5</td>\n",
              "      <td>2</td>\n",
              "      <td>No</td>\n",
              "      <td>2.0</td>\n",
              "      <td>Less</td>\n",
              "      <td>1</td>\n",
              "    </tr>\n",
              "    <tr>\n",
              "      <th>7</th>\n",
              "      <td>UK</td>\n",
              "      <td>0</td>\n",
              "      <td>38.0</td>\n",
              "      <td>Female</td>\n",
              "      <td>Post-graduate degree</td>\n",
              "      <td>More than $70,000</td>\n",
              "      <td>85000.5</td>\n",
              "      <td>0</td>\n",
              "      <td>Yes</td>\n",
              "      <td>0.0</td>\n",
              "      <td>More</td>\n",
              "      <td>0</td>\n",
              "    </tr>\n",
              "    <tr>\n",
              "      <th>8</th>\n",
              "      <td>Australia</td>\n",
              "      <td>0</td>\n",
              "      <td>54.0</td>\n",
              "      <td>Male</td>\n",
              "      <td>Completed year 12</td>\n",
              "      <td>More than $70,000</td>\n",
              "      <td>85000.5</td>\n",
              "      <td>6</td>\n",
              "      <td>Yes</td>\n",
              "      <td>5.0</td>\n",
              "      <td>Same</td>\n",
              "      <td>1</td>\n",
              "    </tr>\n",
              "    <tr>\n",
              "      <th>9</th>\n",
              "      <td>Australia</td>\n",
              "      <td>0</td>\n",
              "      <td>59.0</td>\n",
              "      <td>Female</td>\n",
              "      <td>Completed year 10</td>\n",
              "      <td>Less than $20,000</td>\n",
              "      <td>10000.0</td>\n",
              "      <td>4</td>\n",
              "      <td>No</td>\n",
              "      <td>0.0</td>\n",
              "      <td>More</td>\n",
              "      <td>0</td>\n",
              "    </tr>\n",
              "  </tbody>\n",
              "</table>\n",
              "</div>\n",
              "      <button class=\"colab-df-convert\" onclick=\"convertToInteractive('df-86670c13-b5fb-49da-ab26-294cdcb7a94d')\"\n",
              "              title=\"Convert this dataframe to an interactive table.\"\n",
              "              style=\"display:none;\">\n",
              "        \n",
              "  <svg xmlns=\"http://www.w3.org/2000/svg\" height=\"24px\"viewBox=\"0 0 24 24\"\n",
              "       width=\"24px\">\n",
              "    <path d=\"M0 0h24v24H0V0z\" fill=\"none\"/>\n",
              "    <path d=\"M18.56 5.44l.94 2.06.94-2.06 2.06-.94-2.06-.94-.94-2.06-.94 2.06-2.06.94zm-11 1L8.5 8.5l.94-2.06 2.06-.94-2.06-.94L8.5 2.5l-.94 2.06-2.06.94zm10 10l.94 2.06.94-2.06 2.06-.94-2.06-.94-.94-2.06-.94 2.06-2.06.94z\"/><path d=\"M17.41 7.96l-1.37-1.37c-.4-.4-.92-.59-1.43-.59-.52 0-1.04.2-1.43.59L10.3 9.45l-7.72 7.72c-.78.78-.78 2.05 0 2.83L4 21.41c.39.39.9.59 1.41.59.51 0 1.02-.2 1.41-.59l7.78-7.78 2.81-2.81c.8-.78.8-2.07 0-2.86zM5.41 20L4 18.59l7.72-7.72 1.47 1.35L5.41 20z\"/>\n",
              "  </svg>\n",
              "      </button>\n",
              "      \n",
              "  <style>\n",
              "    .colab-df-container {\n",
              "      display:flex;\n",
              "      flex-wrap:wrap;\n",
              "      gap: 12px;\n",
              "    }\n",
              "\n",
              "    .colab-df-convert {\n",
              "      background-color: #E8F0FE;\n",
              "      border: none;\n",
              "      border-radius: 50%;\n",
              "      cursor: pointer;\n",
              "      display: none;\n",
              "      fill: #1967D2;\n",
              "      height: 32px;\n",
              "      padding: 0 0 0 0;\n",
              "      width: 32px;\n",
              "    }\n",
              "\n",
              "    .colab-df-convert:hover {\n",
              "      background-color: #E2EBFA;\n",
              "      box-shadow: 0px 1px 2px rgba(60, 64, 67, 0.3), 0px 1px 3px 1px rgba(60, 64, 67, 0.15);\n",
              "      fill: #174EA6;\n",
              "    }\n",
              "\n",
              "    [theme=dark] .colab-df-convert {\n",
              "      background-color: #3B4455;\n",
              "      fill: #D2E3FC;\n",
              "    }\n",
              "\n",
              "    [theme=dark] .colab-df-convert:hover {\n",
              "      background-color: #434B5C;\n",
              "      box-shadow: 0px 1px 3px 1px rgba(0, 0, 0, 0.15);\n",
              "      filter: drop-shadow(0px 1px 2px rgba(0, 0, 0, 0.3));\n",
              "      fill: #FFFFFF;\n",
              "    }\n",
              "  </style>\n",
              "\n",
              "      <script>\n",
              "        const buttonEl =\n",
              "          document.querySelector('#df-86670c13-b5fb-49da-ab26-294cdcb7a94d button.colab-df-convert');\n",
              "        buttonEl.style.display =\n",
              "          google.colab.kernel.accessAllowed ? 'block' : 'none';\n",
              "\n",
              "        async function convertToInteractive(key) {\n",
              "          const element = document.querySelector('#df-86670c13-b5fb-49da-ab26-294cdcb7a94d');\n",
              "          const dataTable =\n",
              "            await google.colab.kernel.invokeFunction('convertToInteractive',\n",
              "                                                     [key], {});\n",
              "          if (!dataTable) return;\n",
              "\n",
              "          const docLinkHtml = 'Like what you see? Visit the ' +\n",
              "            '<a target=\"_blank\" href=https://colab.research.google.com/notebooks/data_table.ipynb>data table notebook</a>'\n",
              "            + ' to learn more about interactive tables.';\n",
              "          element.innerHTML = '';\n",
              "          dataTable['output_type'] = 'display_data';\n",
              "          await google.colab.output.renderOutput(dataTable, element);\n",
              "          const docLink = document.createElement('div');\n",
              "          docLink.innerHTML = docLinkHtml;\n",
              "          element.appendChild(docLink);\n",
              "        }\n",
              "      </script>\n",
              "    </div>\n",
              "  </div>\n",
              "  "
            ]
          },
          "metadata": {},
          "execution_count": 211
        }
      ]
    },
    {
      "cell_type": "markdown",
      "source": [
        "Conclusión: En los primeros 10 datos de la tabla, solamente un individuo vio ballenas, la mayoría de los individuos son mujeres, el 50% de los individuos en estos primeros 10 datos tienen disposición a pagar 2 dólares cada semana durante 10 años para conservar el espacio para avistar ballenas."
      ],
      "metadata": {
        "id": "CgMf6YCOpNbG"
      }
    },
    {
      "cell_type": "code",
      "source": [
        "df.tail(n=10) #10 ultimos datos de la tabla"
      ],
      "metadata": {
        "colab": {
          "base_uri": "https://localhost:8080/",
          "height": 618
        },
        "id": "Gq4VK62XnUaz",
        "outputId": "ace2c5ec-cac7-49c1-bd1b-ebcf10bd03a5"
      },
      "execution_count": 212,
      "outputs": [
        {
          "output_type": "execute_result",
          "data": {
            "text/plain": [
              "             Country  SeeWhales   Age  Gender             Education  \\\n",
              "691            Italy          0  58.0  Female               Diploma   \n",
              "692        Australia          0  53.0  Female  Post-graduate degree   \n",
              "693        Australia          0  34.0  Female     Completed year 10   \n",
              "694  The Netherlands          0  31.0  Female                Degree   \n",
              "695        Australia          0  40.0  Female     Completed year 12   \n",
              "696        Australia          0  56.0  Female     Completed year 10   \n",
              "697        Australia          0  38.0  Female     Completed year 10   \n",
              "698        Australia          0  24.0  Female               Diploma   \n",
              "699        Australia          0  50.0    Male  Post-graduate degree   \n",
              "700        Australia          0  32.0    Male                Degree   \n",
              "\n",
              "            Income_AUD   Income  AdultWhales YoungWhales  Max_wtp   wtp  \\\n",
              "691                NaN      NaN            8         Yes      0.0  Less   \n",
              "692  More than $70,000  85000.5            4         Yes      0.0  Less   \n",
              "693  $50,001 - $60,000  55000.5            4         Yes      5.0  Less   \n",
              "694  $50,001 - $60,000  55000.5            4          No      0.0  More   \n",
              "695  $50,001 - $60,000  55000.5           15          No     10.0  Same   \n",
              "696  Less than $20,000  10000.0            0         Yes      1.0  Same   \n",
              "697  $30,001 - $40,000  35000.5            6         Yes      2.0  Same   \n",
              "698  $20,001 - $30,000  25000.5            6          No      2.0  Less   \n",
              "699  $30,001 - $40,000  35000.5            2         Yes      5.0  Same   \n",
              "700  More than $70,000  85000.5            8         Yes      0.0  Same   \n",
              "\n",
              "     PayConserve  \n",
              "691            1  \n",
              "692            1  \n",
              "693            1  \n",
              "694            1  \n",
              "695            1  \n",
              "696            1  \n",
              "697            1  \n",
              "698            1  \n",
              "699            1  \n",
              "700            0  "
            ],
            "text/html": [
              "\n",
              "  <div id=\"df-acfe8895-c7ce-45d8-bdde-14ee33018938\">\n",
              "    <div class=\"colab-df-container\">\n",
              "      <div>\n",
              "<style scoped>\n",
              "    .dataframe tbody tr th:only-of-type {\n",
              "        vertical-align: middle;\n",
              "    }\n",
              "\n",
              "    .dataframe tbody tr th {\n",
              "        vertical-align: top;\n",
              "    }\n",
              "\n",
              "    .dataframe thead th {\n",
              "        text-align: right;\n",
              "    }\n",
              "</style>\n",
              "<table border=\"1\" class=\"dataframe\">\n",
              "  <thead>\n",
              "    <tr style=\"text-align: right;\">\n",
              "      <th></th>\n",
              "      <th>Country</th>\n",
              "      <th>SeeWhales</th>\n",
              "      <th>Age</th>\n",
              "      <th>Gender</th>\n",
              "      <th>Education</th>\n",
              "      <th>Income_AUD</th>\n",
              "      <th>Income</th>\n",
              "      <th>AdultWhales</th>\n",
              "      <th>YoungWhales</th>\n",
              "      <th>Max_wtp</th>\n",
              "      <th>wtp</th>\n",
              "      <th>PayConserve</th>\n",
              "    </tr>\n",
              "  </thead>\n",
              "  <tbody>\n",
              "    <tr>\n",
              "      <th>691</th>\n",
              "      <td>Italy</td>\n",
              "      <td>0</td>\n",
              "      <td>58.0</td>\n",
              "      <td>Female</td>\n",
              "      <td>Diploma</td>\n",
              "      <td>NaN</td>\n",
              "      <td>NaN</td>\n",
              "      <td>8</td>\n",
              "      <td>Yes</td>\n",
              "      <td>0.0</td>\n",
              "      <td>Less</td>\n",
              "      <td>1</td>\n",
              "    </tr>\n",
              "    <tr>\n",
              "      <th>692</th>\n",
              "      <td>Australia</td>\n",
              "      <td>0</td>\n",
              "      <td>53.0</td>\n",
              "      <td>Female</td>\n",
              "      <td>Post-graduate degree</td>\n",
              "      <td>More than $70,000</td>\n",
              "      <td>85000.5</td>\n",
              "      <td>4</td>\n",
              "      <td>Yes</td>\n",
              "      <td>0.0</td>\n",
              "      <td>Less</td>\n",
              "      <td>1</td>\n",
              "    </tr>\n",
              "    <tr>\n",
              "      <th>693</th>\n",
              "      <td>Australia</td>\n",
              "      <td>0</td>\n",
              "      <td>34.0</td>\n",
              "      <td>Female</td>\n",
              "      <td>Completed year 10</td>\n",
              "      <td>$50,001 - $60,000</td>\n",
              "      <td>55000.5</td>\n",
              "      <td>4</td>\n",
              "      <td>Yes</td>\n",
              "      <td>5.0</td>\n",
              "      <td>Less</td>\n",
              "      <td>1</td>\n",
              "    </tr>\n",
              "    <tr>\n",
              "      <th>694</th>\n",
              "      <td>The Netherlands</td>\n",
              "      <td>0</td>\n",
              "      <td>31.0</td>\n",
              "      <td>Female</td>\n",
              "      <td>Degree</td>\n",
              "      <td>$50,001 - $60,000</td>\n",
              "      <td>55000.5</td>\n",
              "      <td>4</td>\n",
              "      <td>No</td>\n",
              "      <td>0.0</td>\n",
              "      <td>More</td>\n",
              "      <td>1</td>\n",
              "    </tr>\n",
              "    <tr>\n",
              "      <th>695</th>\n",
              "      <td>Australia</td>\n",
              "      <td>0</td>\n",
              "      <td>40.0</td>\n",
              "      <td>Female</td>\n",
              "      <td>Completed year 12</td>\n",
              "      <td>$50,001 - $60,000</td>\n",
              "      <td>55000.5</td>\n",
              "      <td>15</td>\n",
              "      <td>No</td>\n",
              "      <td>10.0</td>\n",
              "      <td>Same</td>\n",
              "      <td>1</td>\n",
              "    </tr>\n",
              "    <tr>\n",
              "      <th>696</th>\n",
              "      <td>Australia</td>\n",
              "      <td>0</td>\n",
              "      <td>56.0</td>\n",
              "      <td>Female</td>\n",
              "      <td>Completed year 10</td>\n",
              "      <td>Less than $20,000</td>\n",
              "      <td>10000.0</td>\n",
              "      <td>0</td>\n",
              "      <td>Yes</td>\n",
              "      <td>1.0</td>\n",
              "      <td>Same</td>\n",
              "      <td>1</td>\n",
              "    </tr>\n",
              "    <tr>\n",
              "      <th>697</th>\n",
              "      <td>Australia</td>\n",
              "      <td>0</td>\n",
              "      <td>38.0</td>\n",
              "      <td>Female</td>\n",
              "      <td>Completed year 10</td>\n",
              "      <td>$30,001 - $40,000</td>\n",
              "      <td>35000.5</td>\n",
              "      <td>6</td>\n",
              "      <td>Yes</td>\n",
              "      <td>2.0</td>\n",
              "      <td>Same</td>\n",
              "      <td>1</td>\n",
              "    </tr>\n",
              "    <tr>\n",
              "      <th>698</th>\n",
              "      <td>Australia</td>\n",
              "      <td>0</td>\n",
              "      <td>24.0</td>\n",
              "      <td>Female</td>\n",
              "      <td>Diploma</td>\n",
              "      <td>$20,001 - $30,000</td>\n",
              "      <td>25000.5</td>\n",
              "      <td>6</td>\n",
              "      <td>No</td>\n",
              "      <td>2.0</td>\n",
              "      <td>Less</td>\n",
              "      <td>1</td>\n",
              "    </tr>\n",
              "    <tr>\n",
              "      <th>699</th>\n",
              "      <td>Australia</td>\n",
              "      <td>0</td>\n",
              "      <td>50.0</td>\n",
              "      <td>Male</td>\n",
              "      <td>Post-graduate degree</td>\n",
              "      <td>$30,001 - $40,000</td>\n",
              "      <td>35000.5</td>\n",
              "      <td>2</td>\n",
              "      <td>Yes</td>\n",
              "      <td>5.0</td>\n",
              "      <td>Same</td>\n",
              "      <td>1</td>\n",
              "    </tr>\n",
              "    <tr>\n",
              "      <th>700</th>\n",
              "      <td>Australia</td>\n",
              "      <td>0</td>\n",
              "      <td>32.0</td>\n",
              "      <td>Male</td>\n",
              "      <td>Degree</td>\n",
              "      <td>More than $70,000</td>\n",
              "      <td>85000.5</td>\n",
              "      <td>8</td>\n",
              "      <td>Yes</td>\n",
              "      <td>0.0</td>\n",
              "      <td>Same</td>\n",
              "      <td>0</td>\n",
              "    </tr>\n",
              "  </tbody>\n",
              "</table>\n",
              "</div>\n",
              "      <button class=\"colab-df-convert\" onclick=\"convertToInteractive('df-acfe8895-c7ce-45d8-bdde-14ee33018938')\"\n",
              "              title=\"Convert this dataframe to an interactive table.\"\n",
              "              style=\"display:none;\">\n",
              "        \n",
              "  <svg xmlns=\"http://www.w3.org/2000/svg\" height=\"24px\"viewBox=\"0 0 24 24\"\n",
              "       width=\"24px\">\n",
              "    <path d=\"M0 0h24v24H0V0z\" fill=\"none\"/>\n",
              "    <path d=\"M18.56 5.44l.94 2.06.94-2.06 2.06-.94-2.06-.94-.94-2.06-.94 2.06-2.06.94zm-11 1L8.5 8.5l.94-2.06 2.06-.94-2.06-.94L8.5 2.5l-.94 2.06-2.06.94zm10 10l.94 2.06.94-2.06 2.06-.94-2.06-.94-.94-2.06-.94 2.06-2.06.94z\"/><path d=\"M17.41 7.96l-1.37-1.37c-.4-.4-.92-.59-1.43-.59-.52 0-1.04.2-1.43.59L10.3 9.45l-7.72 7.72c-.78.78-.78 2.05 0 2.83L4 21.41c.39.39.9.59 1.41.59.51 0 1.02-.2 1.41-.59l7.78-7.78 2.81-2.81c.8-.78.8-2.07 0-2.86zM5.41 20L4 18.59l7.72-7.72 1.47 1.35L5.41 20z\"/>\n",
              "  </svg>\n",
              "      </button>\n",
              "      \n",
              "  <style>\n",
              "    .colab-df-container {\n",
              "      display:flex;\n",
              "      flex-wrap:wrap;\n",
              "      gap: 12px;\n",
              "    }\n",
              "\n",
              "    .colab-df-convert {\n",
              "      background-color: #E8F0FE;\n",
              "      border: none;\n",
              "      border-radius: 50%;\n",
              "      cursor: pointer;\n",
              "      display: none;\n",
              "      fill: #1967D2;\n",
              "      height: 32px;\n",
              "      padding: 0 0 0 0;\n",
              "      width: 32px;\n",
              "    }\n",
              "\n",
              "    .colab-df-convert:hover {\n",
              "      background-color: #E2EBFA;\n",
              "      box-shadow: 0px 1px 2px rgba(60, 64, 67, 0.3), 0px 1px 3px 1px rgba(60, 64, 67, 0.15);\n",
              "      fill: #174EA6;\n",
              "    }\n",
              "\n",
              "    [theme=dark] .colab-df-convert {\n",
              "      background-color: #3B4455;\n",
              "      fill: #D2E3FC;\n",
              "    }\n",
              "\n",
              "    [theme=dark] .colab-df-convert:hover {\n",
              "      background-color: #434B5C;\n",
              "      box-shadow: 0px 1px 3px 1px rgba(0, 0, 0, 0.15);\n",
              "      filter: drop-shadow(0px 1px 2px rgba(0, 0, 0, 0.3));\n",
              "      fill: #FFFFFF;\n",
              "    }\n",
              "  </style>\n",
              "\n",
              "      <script>\n",
              "        const buttonEl =\n",
              "          document.querySelector('#df-acfe8895-c7ce-45d8-bdde-14ee33018938 button.colab-df-convert');\n",
              "        buttonEl.style.display =\n",
              "          google.colab.kernel.accessAllowed ? 'block' : 'none';\n",
              "\n",
              "        async function convertToInteractive(key) {\n",
              "          const element = document.querySelector('#df-acfe8895-c7ce-45d8-bdde-14ee33018938');\n",
              "          const dataTable =\n",
              "            await google.colab.kernel.invokeFunction('convertToInteractive',\n",
              "                                                     [key], {});\n",
              "          if (!dataTable) return;\n",
              "\n",
              "          const docLinkHtml = 'Like what you see? Visit the ' +\n",
              "            '<a target=\"_blank\" href=https://colab.research.google.com/notebooks/data_table.ipynb>data table notebook</a>'\n",
              "            + ' to learn more about interactive tables.';\n",
              "          element.innerHTML = '';\n",
              "          dataTable['output_type'] = 'display_data';\n",
              "          await google.colab.output.renderOutput(dataTable, element);\n",
              "          const docLink = document.createElement('div');\n",
              "          docLink.innerHTML = docLinkHtml;\n",
              "          element.appendChild(docLink);\n",
              "        }\n",
              "      </script>\n",
              "    </div>\n",
              "  </div>\n",
              "  "
            ]
          },
          "metadata": {},
          "execution_count": 212
        }
      ]
    },
    {
      "cell_type": "markdown",
      "source": [
        "Conclusión: Ningunos de los últimos 10 individuos ha visto ballenas, la mayoría de la población es de Australia, el 80% son mujeres y el 90% de los últimos 10 individuos tienen disposición a pagar 2 dólares cada semana durante 10 años para conservar el espacio para avistar ballenas."
      ],
      "metadata": {
        "id": "p_JKWlzKrApJ"
      }
    },
    {
      "cell_type": "code",
      "source": [
        "print(\"Número de filas:\", len(df)) #Numero de filas"
      ],
      "metadata": {
        "colab": {
          "base_uri": "https://localhost:8080/"
        },
        "id": "Ory9DL96nWaD",
        "outputId": "f120bed9-ae8f-4e21-fdd9-420a08e33185"
      },
      "execution_count": 213,
      "outputs": [
        {
          "output_type": "stream",
          "name": "stdout",
          "text": [
            "Número de filas: 701\n"
          ]
        }
      ]
    },
    {
      "cell_type": "code",
      "source": [
        "print(\"Número de columnas:\", len(df.columns)) #Numero de columnas"
      ],
      "metadata": {
        "colab": {
          "base_uri": "https://localhost:8080/"
        },
        "id": "-MM9K1WdnY1o",
        "outputId": "45fd304f-201a-4f4f-8264-502afb008346"
      },
      "execution_count": 214,
      "outputs": [
        {
          "output_type": "stream",
          "name": "stdout",
          "text": [
            "Número de columnas: 12\n"
          ]
        }
      ]
    },
    {
      "cell_type": "code",
      "source": [
        "df.isna().sum() #Datos faltantes"
      ],
      "metadata": {
        "colab": {
          "base_uri": "https://localhost:8080/"
        },
        "id": "LD_UL0guncAo",
        "outputId": "cd4d3f8d-aa94-4929-8a21-f9164da05b9b"
      },
      "execution_count": 215,
      "outputs": [
        {
          "output_type": "execute_result",
          "data": {
            "text/plain": [
              "Country         0\n",
              "SeeWhales       0\n",
              "Age            10\n",
              "Gender          0\n",
              "Education       0\n",
              "Income_AUD     27\n",
              "Income         27\n",
              "AdultWhales     0\n",
              "YoungWhales     0\n",
              "Max_wtp         0\n",
              "wtp             0\n",
              "PayConserve     0\n",
              "dtype: int64"
            ]
          },
          "metadata": {},
          "execution_count": 215
        }
      ]
    },
    {
      "cell_type": "code",
      "source": [
        "df = df.dropna() #Se eliminaron los datos faltantes"
      ],
      "metadata": {
        "id": "CLtDOyHqr54x"
      },
      "execution_count": 216,
      "outputs": []
    },
    {
      "cell_type": "code",
      "source": [
        "df.isna().sum()"
      ],
      "metadata": {
        "colab": {
          "base_uri": "https://localhost:8080/"
        },
        "id": "Dkrd4kfxr-I5",
        "outputId": "e0c346e4-94e0-444c-a202-1b63c987ff70"
      },
      "execution_count": 217,
      "outputs": [
        {
          "output_type": "execute_result",
          "data": {
            "text/plain": [
              "Country        0\n",
              "SeeWhales      0\n",
              "Age            0\n",
              "Gender         0\n",
              "Education      0\n",
              "Income_AUD     0\n",
              "Income         0\n",
              "AdultWhales    0\n",
              "YoungWhales    0\n",
              "Max_wtp        0\n",
              "wtp            0\n",
              "PayConserve    0\n",
              "dtype: int64"
            ]
          },
          "metadata": {},
          "execution_count": 217
        }
      ]
    },
    {
      "cell_type": "code",
      "source": [
        "df.info() #Tipo de datos"
      ],
      "metadata": {
        "colab": {
          "base_uri": "https://localhost:8080/"
        },
        "id": "vIuvEUeUneyZ",
        "outputId": "d74f5625-db7e-4898-bfa5-35171caffaf8"
      },
      "execution_count": 218,
      "outputs": [
        {
          "output_type": "stream",
          "name": "stdout",
          "text": [
            "<class 'pandas.core.frame.DataFrame'>\n",
            "Int64Index: 668 entries, 0 to 700\n",
            "Data columns (total 12 columns):\n",
            " #   Column       Non-Null Count  Dtype  \n",
            "---  ------       --------------  -----  \n",
            " 0   Country      668 non-null    object \n",
            " 1   SeeWhales    668 non-null    int64  \n",
            " 2   Age          668 non-null    float64\n",
            " 3   Gender       668 non-null    object \n",
            " 4   Education    668 non-null    object \n",
            " 5   Income_AUD   668 non-null    object \n",
            " 6   Income       668 non-null    float64\n",
            " 7   AdultWhales  668 non-null    int64  \n",
            " 8   YoungWhales  668 non-null    object \n",
            " 9   Max_wtp      668 non-null    float64\n",
            " 10  wtp          668 non-null    object \n",
            " 11  PayConserve  668 non-null    int64  \n",
            "dtypes: float64(3), int64(3), object(6)\n",
            "memory usage: 67.8+ KB\n"
          ]
        }
      ]
    },
    {
      "cell_type": "markdown",
      "source": [
        "Conclusión: Seis variables son de tipo categórico, cinco son numéricas y ninguna de estas variables tienen datos nulos."
      ],
      "metadata": {
        "id": "cXZRuAEbsZ2c"
      }
    },
    {
      "cell_type": "code",
      "source": [
        "df.describe() #Descripcion general de los datos"
      ],
      "metadata": {
        "colab": {
          "base_uri": "https://localhost:8080/",
          "height": 344
        },
        "id": "7P5rf9AWnioZ",
        "outputId": "899389eb-8e2b-4f40-801b-b351d5aa5f23"
      },
      "execution_count": 219,
      "outputs": [
        {
          "output_type": "execute_result",
          "data": {
            "text/plain": [
              "        SeeWhales         Age        Income  AdultWhales     Max_wtp  \\\n",
              "count  668.000000  668.000000    668.000000   668.000000  668.000000   \n",
              "mean     0.128743   42.811377  44558.782186     6.055389    3.291916   \n",
              "std      0.335166   15.422497  26282.669068     3.753050   18.472070   \n",
              "min      0.000000   13.000000  10000.000000     0.000000    0.000000   \n",
              "25%      0.000000   30.000000  25000.500000     4.000000    0.000000   \n",
              "50%      0.000000   41.000000  35000.500000     6.000000    0.000000   \n",
              "75%      0.000000   54.000000  65000.500000     8.000000    2.000000   \n",
              "max      1.000000   82.000000  85000.500000    30.000000  250.000000   \n",
              "\n",
              "       PayConserve  \n",
              "count   668.000000  \n",
              "mean      0.669162  \n",
              "std       0.470868  \n",
              "min       0.000000  \n",
              "25%       0.000000  \n",
              "50%       1.000000  \n",
              "75%       1.000000  \n",
              "max       1.000000  "
            ],
            "text/html": [
              "\n",
              "  <div id=\"df-80ce4bb1-5f91-4b0e-a12d-4a236d23fca4\">\n",
              "    <div class=\"colab-df-container\">\n",
              "      <div>\n",
              "<style scoped>\n",
              "    .dataframe tbody tr th:only-of-type {\n",
              "        vertical-align: middle;\n",
              "    }\n",
              "\n",
              "    .dataframe tbody tr th {\n",
              "        vertical-align: top;\n",
              "    }\n",
              "\n",
              "    .dataframe thead th {\n",
              "        text-align: right;\n",
              "    }\n",
              "</style>\n",
              "<table border=\"1\" class=\"dataframe\">\n",
              "  <thead>\n",
              "    <tr style=\"text-align: right;\">\n",
              "      <th></th>\n",
              "      <th>SeeWhales</th>\n",
              "      <th>Age</th>\n",
              "      <th>Income</th>\n",
              "      <th>AdultWhales</th>\n",
              "      <th>Max_wtp</th>\n",
              "      <th>PayConserve</th>\n",
              "    </tr>\n",
              "  </thead>\n",
              "  <tbody>\n",
              "    <tr>\n",
              "      <th>count</th>\n",
              "      <td>668.000000</td>\n",
              "      <td>668.000000</td>\n",
              "      <td>668.000000</td>\n",
              "      <td>668.000000</td>\n",
              "      <td>668.000000</td>\n",
              "      <td>668.000000</td>\n",
              "    </tr>\n",
              "    <tr>\n",
              "      <th>mean</th>\n",
              "      <td>0.128743</td>\n",
              "      <td>42.811377</td>\n",
              "      <td>44558.782186</td>\n",
              "      <td>6.055389</td>\n",
              "      <td>3.291916</td>\n",
              "      <td>0.669162</td>\n",
              "    </tr>\n",
              "    <tr>\n",
              "      <th>std</th>\n",
              "      <td>0.335166</td>\n",
              "      <td>15.422497</td>\n",
              "      <td>26282.669068</td>\n",
              "      <td>3.753050</td>\n",
              "      <td>18.472070</td>\n",
              "      <td>0.470868</td>\n",
              "    </tr>\n",
              "    <tr>\n",
              "      <th>min</th>\n",
              "      <td>0.000000</td>\n",
              "      <td>13.000000</td>\n",
              "      <td>10000.000000</td>\n",
              "      <td>0.000000</td>\n",
              "      <td>0.000000</td>\n",
              "      <td>0.000000</td>\n",
              "    </tr>\n",
              "    <tr>\n",
              "      <th>25%</th>\n",
              "      <td>0.000000</td>\n",
              "      <td>30.000000</td>\n",
              "      <td>25000.500000</td>\n",
              "      <td>4.000000</td>\n",
              "      <td>0.000000</td>\n",
              "      <td>0.000000</td>\n",
              "    </tr>\n",
              "    <tr>\n",
              "      <th>50%</th>\n",
              "      <td>0.000000</td>\n",
              "      <td>41.000000</td>\n",
              "      <td>35000.500000</td>\n",
              "      <td>6.000000</td>\n",
              "      <td>0.000000</td>\n",
              "      <td>1.000000</td>\n",
              "    </tr>\n",
              "    <tr>\n",
              "      <th>75%</th>\n",
              "      <td>0.000000</td>\n",
              "      <td>54.000000</td>\n",
              "      <td>65000.500000</td>\n",
              "      <td>8.000000</td>\n",
              "      <td>2.000000</td>\n",
              "      <td>1.000000</td>\n",
              "    </tr>\n",
              "    <tr>\n",
              "      <th>max</th>\n",
              "      <td>1.000000</td>\n",
              "      <td>82.000000</td>\n",
              "      <td>85000.500000</td>\n",
              "      <td>30.000000</td>\n",
              "      <td>250.000000</td>\n",
              "      <td>1.000000</td>\n",
              "    </tr>\n",
              "  </tbody>\n",
              "</table>\n",
              "</div>\n",
              "      <button class=\"colab-df-convert\" onclick=\"convertToInteractive('df-80ce4bb1-5f91-4b0e-a12d-4a236d23fca4')\"\n",
              "              title=\"Convert this dataframe to an interactive table.\"\n",
              "              style=\"display:none;\">\n",
              "        \n",
              "  <svg xmlns=\"http://www.w3.org/2000/svg\" height=\"24px\"viewBox=\"0 0 24 24\"\n",
              "       width=\"24px\">\n",
              "    <path d=\"M0 0h24v24H0V0z\" fill=\"none\"/>\n",
              "    <path d=\"M18.56 5.44l.94 2.06.94-2.06 2.06-.94-2.06-.94-.94-2.06-.94 2.06-2.06.94zm-11 1L8.5 8.5l.94-2.06 2.06-.94-2.06-.94L8.5 2.5l-.94 2.06-2.06.94zm10 10l.94 2.06.94-2.06 2.06-.94-2.06-.94-.94-2.06-.94 2.06-2.06.94z\"/><path d=\"M17.41 7.96l-1.37-1.37c-.4-.4-.92-.59-1.43-.59-.52 0-1.04.2-1.43.59L10.3 9.45l-7.72 7.72c-.78.78-.78 2.05 0 2.83L4 21.41c.39.39.9.59 1.41.59.51 0 1.02-.2 1.41-.59l7.78-7.78 2.81-2.81c.8-.78.8-2.07 0-2.86zM5.41 20L4 18.59l7.72-7.72 1.47 1.35L5.41 20z\"/>\n",
              "  </svg>\n",
              "      </button>\n",
              "      \n",
              "  <style>\n",
              "    .colab-df-container {\n",
              "      display:flex;\n",
              "      flex-wrap:wrap;\n",
              "      gap: 12px;\n",
              "    }\n",
              "\n",
              "    .colab-df-convert {\n",
              "      background-color: #E8F0FE;\n",
              "      border: none;\n",
              "      border-radius: 50%;\n",
              "      cursor: pointer;\n",
              "      display: none;\n",
              "      fill: #1967D2;\n",
              "      height: 32px;\n",
              "      padding: 0 0 0 0;\n",
              "      width: 32px;\n",
              "    }\n",
              "\n",
              "    .colab-df-convert:hover {\n",
              "      background-color: #E2EBFA;\n",
              "      box-shadow: 0px 1px 2px rgba(60, 64, 67, 0.3), 0px 1px 3px 1px rgba(60, 64, 67, 0.15);\n",
              "      fill: #174EA6;\n",
              "    }\n",
              "\n",
              "    [theme=dark] .colab-df-convert {\n",
              "      background-color: #3B4455;\n",
              "      fill: #D2E3FC;\n",
              "    }\n",
              "\n",
              "    [theme=dark] .colab-df-convert:hover {\n",
              "      background-color: #434B5C;\n",
              "      box-shadow: 0px 1px 3px 1px rgba(0, 0, 0, 0.15);\n",
              "      filter: drop-shadow(0px 1px 2px rgba(0, 0, 0, 0.3));\n",
              "      fill: #FFFFFF;\n",
              "    }\n",
              "  </style>\n",
              "\n",
              "      <script>\n",
              "        const buttonEl =\n",
              "          document.querySelector('#df-80ce4bb1-5f91-4b0e-a12d-4a236d23fca4 button.colab-df-convert');\n",
              "        buttonEl.style.display =\n",
              "          google.colab.kernel.accessAllowed ? 'block' : 'none';\n",
              "\n",
              "        async function convertToInteractive(key) {\n",
              "          const element = document.querySelector('#df-80ce4bb1-5f91-4b0e-a12d-4a236d23fca4');\n",
              "          const dataTable =\n",
              "            await google.colab.kernel.invokeFunction('convertToInteractive',\n",
              "                                                     [key], {});\n",
              "          if (!dataTable) return;\n",
              "\n",
              "          const docLinkHtml = 'Like what you see? Visit the ' +\n",
              "            '<a target=\"_blank\" href=https://colab.research.google.com/notebooks/data_table.ipynb>data table notebook</a>'\n",
              "            + ' to learn more about interactive tables.';\n",
              "          element.innerHTML = '';\n",
              "          dataTable['output_type'] = 'display_data';\n",
              "          await google.colab.output.renderOutput(dataTable, element);\n",
              "          const docLink = document.createElement('div');\n",
              "          docLink.innerHTML = docLinkHtml;\n",
              "          element.appendChild(docLink);\n",
              "        }\n",
              "      </script>\n",
              "    </div>\n",
              "  </div>\n",
              "  "
            ]
          },
          "metadata": {},
          "execution_count": 219
        }
      ]
    },
    {
      "cell_type": "markdown",
      "source": [
        "# Verificación de datos duplicados"
      ],
      "metadata": {
        "id": "vc9oPeTboKZB"
      }
    },
    {
      "cell_type": "code",
      "source": [
        "df.duplicated().sum() #datos duplicados"
      ],
      "metadata": {
        "colab": {
          "base_uri": "https://localhost:8080/"
        },
        "id": "2ALZ2HKYoTSS",
        "outputId": "8304689a-4958-49c6-b51d-c3d7e28c33a9"
      },
      "execution_count": 220,
      "outputs": [
        {
          "output_type": "execute_result",
          "data": {
            "text/plain": [
              "0"
            ]
          },
          "metadata": {},
          "execution_count": 220
        }
      ]
    },
    {
      "cell_type": "code",
      "source": [
        "df = df.drop_duplicates() "
      ],
      "metadata": {
        "id": "Tf_HOZlyoWNx"
      },
      "execution_count": 221,
      "outputs": []
    },
    {
      "cell_type": "code",
      "source": [
        "df.duplicated().sum() "
      ],
      "metadata": {
        "colab": {
          "base_uri": "https://localhost:8080/"
        },
        "id": "qnVJk7B5qlo5",
        "outputId": "dc3b1b74-32e2-4848-8a4c-afa1064745d4"
      },
      "execution_count": 222,
      "outputs": [
        {
          "output_type": "execute_result",
          "data": {
            "text/plain": [
              "0"
            ]
          },
          "metadata": {},
          "execution_count": 222
        }
      ]
    },
    {
      "cell_type": "code",
      "source": [
        "df = df.replace({'Gender':{'Male':1,'Female':0}})\n",
        "df = df.replace({'YoungWhales':{'Yes':1,'No':0}})"
      ],
      "metadata": {
        "id": "N7OjL3N2oYSZ"
      },
      "execution_count": 223,
      "outputs": []
    },
    {
      "cell_type": "code",
      "source": [
        "df"
      ],
      "metadata": {
        "colab": {
          "base_uri": "https://localhost:8080/",
          "height": 696
        },
        "id": "SnP5tPDupSim",
        "outputId": "76f40f83-d07b-4ab7-e903-9ab28ce61f6b"
      },
      "execution_count": 224,
      "outputs": [
        {
          "output_type": "execute_result",
          "data": {
            "text/plain": [
              "       Country  SeeWhales   Age  Gender             Education  \\\n",
              "0    Australia          1  31.0       0               Diploma   \n",
              "1           UK          0  22.0       0                Degree   \n",
              "2          USA          0  46.0       0                Degree   \n",
              "3       France          0  37.0       0               Diploma   \n",
              "5    Australia          0  65.0       1  Post-graduate degree   \n",
              "..         ...        ...   ...     ...                   ...   \n",
              "696  Australia          0  56.0       0     Completed year 10   \n",
              "697  Australia          0  38.0       0     Completed year 10   \n",
              "698  Australia          0  24.0       0               Diploma   \n",
              "699  Australia          0  50.0       1  Post-graduate degree   \n",
              "700  Australia          0  32.0       1                Degree   \n",
              "\n",
              "            Income_AUD   Income  AdultWhales  YoungWhales  Max_wtp   wtp  \\\n",
              "0    $60,001 - $70,000  65000.5            2            1      0.0  Less   \n",
              "1    Less than $20,000  10000.0            6            0      0.0  More   \n",
              "2    More than $70,000  85000.5            7            0      0.0  More   \n",
              "3    $20,001 - $30,000  25000.5            4            1      0.0  More   \n",
              "5    $40,001 - $50,000  45000.5            3            1      1.0  Same   \n",
              "..                 ...      ...          ...          ...      ...   ...   \n",
              "696  Less than $20,000  10000.0            0            1      1.0  Same   \n",
              "697  $30,001 - $40,000  35000.5            6            1      2.0  Same   \n",
              "698  $20,001 - $30,000  25000.5            6            0      2.0  Less   \n",
              "699  $30,001 - $40,000  35000.5            2            1      5.0  Same   \n",
              "700  More than $70,000  85000.5            8            1      0.0  Same   \n",
              "\n",
              "     PayConserve  \n",
              "0              1  \n",
              "1              0  \n",
              "2              0  \n",
              "3              1  \n",
              "5              1  \n",
              "..           ...  \n",
              "696            1  \n",
              "697            1  \n",
              "698            1  \n",
              "699            1  \n",
              "700            0  \n",
              "\n",
              "[668 rows x 12 columns]"
            ],
            "text/html": [
              "\n",
              "  <div id=\"df-e97f9f53-1b4f-401c-9266-913eeeb9c3a4\">\n",
              "    <div class=\"colab-df-container\">\n",
              "      <div>\n",
              "<style scoped>\n",
              "    .dataframe tbody tr th:only-of-type {\n",
              "        vertical-align: middle;\n",
              "    }\n",
              "\n",
              "    .dataframe tbody tr th {\n",
              "        vertical-align: top;\n",
              "    }\n",
              "\n",
              "    .dataframe thead th {\n",
              "        text-align: right;\n",
              "    }\n",
              "</style>\n",
              "<table border=\"1\" class=\"dataframe\">\n",
              "  <thead>\n",
              "    <tr style=\"text-align: right;\">\n",
              "      <th></th>\n",
              "      <th>Country</th>\n",
              "      <th>SeeWhales</th>\n",
              "      <th>Age</th>\n",
              "      <th>Gender</th>\n",
              "      <th>Education</th>\n",
              "      <th>Income_AUD</th>\n",
              "      <th>Income</th>\n",
              "      <th>AdultWhales</th>\n",
              "      <th>YoungWhales</th>\n",
              "      <th>Max_wtp</th>\n",
              "      <th>wtp</th>\n",
              "      <th>PayConserve</th>\n",
              "    </tr>\n",
              "  </thead>\n",
              "  <tbody>\n",
              "    <tr>\n",
              "      <th>0</th>\n",
              "      <td>Australia</td>\n",
              "      <td>1</td>\n",
              "      <td>31.0</td>\n",
              "      <td>0</td>\n",
              "      <td>Diploma</td>\n",
              "      <td>$60,001 - $70,000</td>\n",
              "      <td>65000.5</td>\n",
              "      <td>2</td>\n",
              "      <td>1</td>\n",
              "      <td>0.0</td>\n",
              "      <td>Less</td>\n",
              "      <td>1</td>\n",
              "    </tr>\n",
              "    <tr>\n",
              "      <th>1</th>\n",
              "      <td>UK</td>\n",
              "      <td>0</td>\n",
              "      <td>22.0</td>\n",
              "      <td>0</td>\n",
              "      <td>Degree</td>\n",
              "      <td>Less than $20,000</td>\n",
              "      <td>10000.0</td>\n",
              "      <td>6</td>\n",
              "      <td>0</td>\n",
              "      <td>0.0</td>\n",
              "      <td>More</td>\n",
              "      <td>0</td>\n",
              "    </tr>\n",
              "    <tr>\n",
              "      <th>2</th>\n",
              "      <td>USA</td>\n",
              "      <td>0</td>\n",
              "      <td>46.0</td>\n",
              "      <td>0</td>\n",
              "      <td>Degree</td>\n",
              "      <td>More than $70,000</td>\n",
              "      <td>85000.5</td>\n",
              "      <td>7</td>\n",
              "      <td>0</td>\n",
              "      <td>0.0</td>\n",
              "      <td>More</td>\n",
              "      <td>0</td>\n",
              "    </tr>\n",
              "    <tr>\n",
              "      <th>3</th>\n",
              "      <td>France</td>\n",
              "      <td>0</td>\n",
              "      <td>37.0</td>\n",
              "      <td>0</td>\n",
              "      <td>Diploma</td>\n",
              "      <td>$20,001 - $30,000</td>\n",
              "      <td>25000.5</td>\n",
              "      <td>4</td>\n",
              "      <td>1</td>\n",
              "      <td>0.0</td>\n",
              "      <td>More</td>\n",
              "      <td>1</td>\n",
              "    </tr>\n",
              "    <tr>\n",
              "      <th>5</th>\n",
              "      <td>Australia</td>\n",
              "      <td>0</td>\n",
              "      <td>65.0</td>\n",
              "      <td>1</td>\n",
              "      <td>Post-graduate degree</td>\n",
              "      <td>$40,001 - $50,000</td>\n",
              "      <td>45000.5</td>\n",
              "      <td>3</td>\n",
              "      <td>1</td>\n",
              "      <td>1.0</td>\n",
              "      <td>Same</td>\n",
              "      <td>1</td>\n",
              "    </tr>\n",
              "    <tr>\n",
              "      <th>...</th>\n",
              "      <td>...</td>\n",
              "      <td>...</td>\n",
              "      <td>...</td>\n",
              "      <td>...</td>\n",
              "      <td>...</td>\n",
              "      <td>...</td>\n",
              "      <td>...</td>\n",
              "      <td>...</td>\n",
              "      <td>...</td>\n",
              "      <td>...</td>\n",
              "      <td>...</td>\n",
              "      <td>...</td>\n",
              "    </tr>\n",
              "    <tr>\n",
              "      <th>696</th>\n",
              "      <td>Australia</td>\n",
              "      <td>0</td>\n",
              "      <td>56.0</td>\n",
              "      <td>0</td>\n",
              "      <td>Completed year 10</td>\n",
              "      <td>Less than $20,000</td>\n",
              "      <td>10000.0</td>\n",
              "      <td>0</td>\n",
              "      <td>1</td>\n",
              "      <td>1.0</td>\n",
              "      <td>Same</td>\n",
              "      <td>1</td>\n",
              "    </tr>\n",
              "    <tr>\n",
              "      <th>697</th>\n",
              "      <td>Australia</td>\n",
              "      <td>0</td>\n",
              "      <td>38.0</td>\n",
              "      <td>0</td>\n",
              "      <td>Completed year 10</td>\n",
              "      <td>$30,001 - $40,000</td>\n",
              "      <td>35000.5</td>\n",
              "      <td>6</td>\n",
              "      <td>1</td>\n",
              "      <td>2.0</td>\n",
              "      <td>Same</td>\n",
              "      <td>1</td>\n",
              "    </tr>\n",
              "    <tr>\n",
              "      <th>698</th>\n",
              "      <td>Australia</td>\n",
              "      <td>0</td>\n",
              "      <td>24.0</td>\n",
              "      <td>0</td>\n",
              "      <td>Diploma</td>\n",
              "      <td>$20,001 - $30,000</td>\n",
              "      <td>25000.5</td>\n",
              "      <td>6</td>\n",
              "      <td>0</td>\n",
              "      <td>2.0</td>\n",
              "      <td>Less</td>\n",
              "      <td>1</td>\n",
              "    </tr>\n",
              "    <tr>\n",
              "      <th>699</th>\n",
              "      <td>Australia</td>\n",
              "      <td>0</td>\n",
              "      <td>50.0</td>\n",
              "      <td>1</td>\n",
              "      <td>Post-graduate degree</td>\n",
              "      <td>$30,001 - $40,000</td>\n",
              "      <td>35000.5</td>\n",
              "      <td>2</td>\n",
              "      <td>1</td>\n",
              "      <td>5.0</td>\n",
              "      <td>Same</td>\n",
              "      <td>1</td>\n",
              "    </tr>\n",
              "    <tr>\n",
              "      <th>700</th>\n",
              "      <td>Australia</td>\n",
              "      <td>0</td>\n",
              "      <td>32.0</td>\n",
              "      <td>1</td>\n",
              "      <td>Degree</td>\n",
              "      <td>More than $70,000</td>\n",
              "      <td>85000.5</td>\n",
              "      <td>8</td>\n",
              "      <td>1</td>\n",
              "      <td>0.0</td>\n",
              "      <td>Same</td>\n",
              "      <td>0</td>\n",
              "    </tr>\n",
              "  </tbody>\n",
              "</table>\n",
              "<p>668 rows × 12 columns</p>\n",
              "</div>\n",
              "      <button class=\"colab-df-convert\" onclick=\"convertToInteractive('df-e97f9f53-1b4f-401c-9266-913eeeb9c3a4')\"\n",
              "              title=\"Convert this dataframe to an interactive table.\"\n",
              "              style=\"display:none;\">\n",
              "        \n",
              "  <svg xmlns=\"http://www.w3.org/2000/svg\" height=\"24px\"viewBox=\"0 0 24 24\"\n",
              "       width=\"24px\">\n",
              "    <path d=\"M0 0h24v24H0V0z\" fill=\"none\"/>\n",
              "    <path d=\"M18.56 5.44l.94 2.06.94-2.06 2.06-.94-2.06-.94-.94-2.06-.94 2.06-2.06.94zm-11 1L8.5 8.5l.94-2.06 2.06-.94-2.06-.94L8.5 2.5l-.94 2.06-2.06.94zm10 10l.94 2.06.94-2.06 2.06-.94-2.06-.94-.94-2.06-.94 2.06-2.06.94z\"/><path d=\"M17.41 7.96l-1.37-1.37c-.4-.4-.92-.59-1.43-.59-.52 0-1.04.2-1.43.59L10.3 9.45l-7.72 7.72c-.78.78-.78 2.05 0 2.83L4 21.41c.39.39.9.59 1.41.59.51 0 1.02-.2 1.41-.59l7.78-7.78 2.81-2.81c.8-.78.8-2.07 0-2.86zM5.41 20L4 18.59l7.72-7.72 1.47 1.35L5.41 20z\"/>\n",
              "  </svg>\n",
              "      </button>\n",
              "      \n",
              "  <style>\n",
              "    .colab-df-container {\n",
              "      display:flex;\n",
              "      flex-wrap:wrap;\n",
              "      gap: 12px;\n",
              "    }\n",
              "\n",
              "    .colab-df-convert {\n",
              "      background-color: #E8F0FE;\n",
              "      border: none;\n",
              "      border-radius: 50%;\n",
              "      cursor: pointer;\n",
              "      display: none;\n",
              "      fill: #1967D2;\n",
              "      height: 32px;\n",
              "      padding: 0 0 0 0;\n",
              "      width: 32px;\n",
              "    }\n",
              "\n",
              "    .colab-df-convert:hover {\n",
              "      background-color: #E2EBFA;\n",
              "      box-shadow: 0px 1px 2px rgba(60, 64, 67, 0.3), 0px 1px 3px 1px rgba(60, 64, 67, 0.15);\n",
              "      fill: #174EA6;\n",
              "    }\n",
              "\n",
              "    [theme=dark] .colab-df-convert {\n",
              "      background-color: #3B4455;\n",
              "      fill: #D2E3FC;\n",
              "    }\n",
              "\n",
              "    [theme=dark] .colab-df-convert:hover {\n",
              "      background-color: #434B5C;\n",
              "      box-shadow: 0px 1px 3px 1px rgba(0, 0, 0, 0.15);\n",
              "      filter: drop-shadow(0px 1px 2px rgba(0, 0, 0, 0.3));\n",
              "      fill: #FFFFFF;\n",
              "    }\n",
              "  </style>\n",
              "\n",
              "      <script>\n",
              "        const buttonEl =\n",
              "          document.querySelector('#df-e97f9f53-1b4f-401c-9266-913eeeb9c3a4 button.colab-df-convert');\n",
              "        buttonEl.style.display =\n",
              "          google.colab.kernel.accessAllowed ? 'block' : 'none';\n",
              "\n",
              "        async function convertToInteractive(key) {\n",
              "          const element = document.querySelector('#df-e97f9f53-1b4f-401c-9266-913eeeb9c3a4');\n",
              "          const dataTable =\n",
              "            await google.colab.kernel.invokeFunction('convertToInteractive',\n",
              "                                                     [key], {});\n",
              "          if (!dataTable) return;\n",
              "\n",
              "          const docLinkHtml = 'Like what you see? Visit the ' +\n",
              "            '<a target=\"_blank\" href=https://colab.research.google.com/notebooks/data_table.ipynb>data table notebook</a>'\n",
              "            + ' to learn more about interactive tables.';\n",
              "          element.innerHTML = '';\n",
              "          dataTable['output_type'] = 'display_data';\n",
              "          await google.colab.output.renderOutput(dataTable, element);\n",
              "          const docLink = document.createElement('div');\n",
              "          docLink.innerHTML = docLinkHtml;\n",
              "          element.appendChild(docLink);\n",
              "        }\n",
              "      </script>\n",
              "    </div>\n",
              "  </div>\n",
              "  "
            ]
          },
          "metadata": {},
          "execution_count": 224
        }
      ]
    },
    {
      "cell_type": "code",
      "source": [
        "df.isnull()"
      ],
      "metadata": {
        "colab": {
          "base_uri": "https://localhost:8080/",
          "height": 488
        },
        "id": "O3jbdTJyuSQC",
        "outputId": "207bfa4c-6ef9-4588-f751-c390580883ea"
      },
      "execution_count": 225,
      "outputs": [
        {
          "output_type": "execute_result",
          "data": {
            "text/plain": [
              "     Country  SeeWhales    Age  Gender  Education  Income_AUD  Income  \\\n",
              "0      False      False  False   False      False       False   False   \n",
              "1      False      False  False   False      False       False   False   \n",
              "2      False      False  False   False      False       False   False   \n",
              "3      False      False  False   False      False       False   False   \n",
              "5      False      False  False   False      False       False   False   \n",
              "..       ...        ...    ...     ...        ...         ...     ...   \n",
              "696    False      False  False   False      False       False   False   \n",
              "697    False      False  False   False      False       False   False   \n",
              "698    False      False  False   False      False       False   False   \n",
              "699    False      False  False   False      False       False   False   \n",
              "700    False      False  False   False      False       False   False   \n",
              "\n",
              "     AdultWhales  YoungWhales  Max_wtp    wtp  PayConserve  \n",
              "0          False        False    False  False        False  \n",
              "1          False        False    False  False        False  \n",
              "2          False        False    False  False        False  \n",
              "3          False        False    False  False        False  \n",
              "5          False        False    False  False        False  \n",
              "..           ...          ...      ...    ...          ...  \n",
              "696        False        False    False  False        False  \n",
              "697        False        False    False  False        False  \n",
              "698        False        False    False  False        False  \n",
              "699        False        False    False  False        False  \n",
              "700        False        False    False  False        False  \n",
              "\n",
              "[668 rows x 12 columns]"
            ],
            "text/html": [
              "\n",
              "  <div id=\"df-197ed6e8-5f4a-45b4-9111-4d59e002ad33\">\n",
              "    <div class=\"colab-df-container\">\n",
              "      <div>\n",
              "<style scoped>\n",
              "    .dataframe tbody tr th:only-of-type {\n",
              "        vertical-align: middle;\n",
              "    }\n",
              "\n",
              "    .dataframe tbody tr th {\n",
              "        vertical-align: top;\n",
              "    }\n",
              "\n",
              "    .dataframe thead th {\n",
              "        text-align: right;\n",
              "    }\n",
              "</style>\n",
              "<table border=\"1\" class=\"dataframe\">\n",
              "  <thead>\n",
              "    <tr style=\"text-align: right;\">\n",
              "      <th></th>\n",
              "      <th>Country</th>\n",
              "      <th>SeeWhales</th>\n",
              "      <th>Age</th>\n",
              "      <th>Gender</th>\n",
              "      <th>Education</th>\n",
              "      <th>Income_AUD</th>\n",
              "      <th>Income</th>\n",
              "      <th>AdultWhales</th>\n",
              "      <th>YoungWhales</th>\n",
              "      <th>Max_wtp</th>\n",
              "      <th>wtp</th>\n",
              "      <th>PayConserve</th>\n",
              "    </tr>\n",
              "  </thead>\n",
              "  <tbody>\n",
              "    <tr>\n",
              "      <th>0</th>\n",
              "      <td>False</td>\n",
              "      <td>False</td>\n",
              "      <td>False</td>\n",
              "      <td>False</td>\n",
              "      <td>False</td>\n",
              "      <td>False</td>\n",
              "      <td>False</td>\n",
              "      <td>False</td>\n",
              "      <td>False</td>\n",
              "      <td>False</td>\n",
              "      <td>False</td>\n",
              "      <td>False</td>\n",
              "    </tr>\n",
              "    <tr>\n",
              "      <th>1</th>\n",
              "      <td>False</td>\n",
              "      <td>False</td>\n",
              "      <td>False</td>\n",
              "      <td>False</td>\n",
              "      <td>False</td>\n",
              "      <td>False</td>\n",
              "      <td>False</td>\n",
              "      <td>False</td>\n",
              "      <td>False</td>\n",
              "      <td>False</td>\n",
              "      <td>False</td>\n",
              "      <td>False</td>\n",
              "    </tr>\n",
              "    <tr>\n",
              "      <th>2</th>\n",
              "      <td>False</td>\n",
              "      <td>False</td>\n",
              "      <td>False</td>\n",
              "      <td>False</td>\n",
              "      <td>False</td>\n",
              "      <td>False</td>\n",
              "      <td>False</td>\n",
              "      <td>False</td>\n",
              "      <td>False</td>\n",
              "      <td>False</td>\n",
              "      <td>False</td>\n",
              "      <td>False</td>\n",
              "    </tr>\n",
              "    <tr>\n",
              "      <th>3</th>\n",
              "      <td>False</td>\n",
              "      <td>False</td>\n",
              "      <td>False</td>\n",
              "      <td>False</td>\n",
              "      <td>False</td>\n",
              "      <td>False</td>\n",
              "      <td>False</td>\n",
              "      <td>False</td>\n",
              "      <td>False</td>\n",
              "      <td>False</td>\n",
              "      <td>False</td>\n",
              "      <td>False</td>\n",
              "    </tr>\n",
              "    <tr>\n",
              "      <th>5</th>\n",
              "      <td>False</td>\n",
              "      <td>False</td>\n",
              "      <td>False</td>\n",
              "      <td>False</td>\n",
              "      <td>False</td>\n",
              "      <td>False</td>\n",
              "      <td>False</td>\n",
              "      <td>False</td>\n",
              "      <td>False</td>\n",
              "      <td>False</td>\n",
              "      <td>False</td>\n",
              "      <td>False</td>\n",
              "    </tr>\n",
              "    <tr>\n",
              "      <th>...</th>\n",
              "      <td>...</td>\n",
              "      <td>...</td>\n",
              "      <td>...</td>\n",
              "      <td>...</td>\n",
              "      <td>...</td>\n",
              "      <td>...</td>\n",
              "      <td>...</td>\n",
              "      <td>...</td>\n",
              "      <td>...</td>\n",
              "      <td>...</td>\n",
              "      <td>...</td>\n",
              "      <td>...</td>\n",
              "    </tr>\n",
              "    <tr>\n",
              "      <th>696</th>\n",
              "      <td>False</td>\n",
              "      <td>False</td>\n",
              "      <td>False</td>\n",
              "      <td>False</td>\n",
              "      <td>False</td>\n",
              "      <td>False</td>\n",
              "      <td>False</td>\n",
              "      <td>False</td>\n",
              "      <td>False</td>\n",
              "      <td>False</td>\n",
              "      <td>False</td>\n",
              "      <td>False</td>\n",
              "    </tr>\n",
              "    <tr>\n",
              "      <th>697</th>\n",
              "      <td>False</td>\n",
              "      <td>False</td>\n",
              "      <td>False</td>\n",
              "      <td>False</td>\n",
              "      <td>False</td>\n",
              "      <td>False</td>\n",
              "      <td>False</td>\n",
              "      <td>False</td>\n",
              "      <td>False</td>\n",
              "      <td>False</td>\n",
              "      <td>False</td>\n",
              "      <td>False</td>\n",
              "    </tr>\n",
              "    <tr>\n",
              "      <th>698</th>\n",
              "      <td>False</td>\n",
              "      <td>False</td>\n",
              "      <td>False</td>\n",
              "      <td>False</td>\n",
              "      <td>False</td>\n",
              "      <td>False</td>\n",
              "      <td>False</td>\n",
              "      <td>False</td>\n",
              "      <td>False</td>\n",
              "      <td>False</td>\n",
              "      <td>False</td>\n",
              "      <td>False</td>\n",
              "    </tr>\n",
              "    <tr>\n",
              "      <th>699</th>\n",
              "      <td>False</td>\n",
              "      <td>False</td>\n",
              "      <td>False</td>\n",
              "      <td>False</td>\n",
              "      <td>False</td>\n",
              "      <td>False</td>\n",
              "      <td>False</td>\n",
              "      <td>False</td>\n",
              "      <td>False</td>\n",
              "      <td>False</td>\n",
              "      <td>False</td>\n",
              "      <td>False</td>\n",
              "    </tr>\n",
              "    <tr>\n",
              "      <th>700</th>\n",
              "      <td>False</td>\n",
              "      <td>False</td>\n",
              "      <td>False</td>\n",
              "      <td>False</td>\n",
              "      <td>False</td>\n",
              "      <td>False</td>\n",
              "      <td>False</td>\n",
              "      <td>False</td>\n",
              "      <td>False</td>\n",
              "      <td>False</td>\n",
              "      <td>False</td>\n",
              "      <td>False</td>\n",
              "    </tr>\n",
              "  </tbody>\n",
              "</table>\n",
              "<p>668 rows × 12 columns</p>\n",
              "</div>\n",
              "      <button class=\"colab-df-convert\" onclick=\"convertToInteractive('df-197ed6e8-5f4a-45b4-9111-4d59e002ad33')\"\n",
              "              title=\"Convert this dataframe to an interactive table.\"\n",
              "              style=\"display:none;\">\n",
              "        \n",
              "  <svg xmlns=\"http://www.w3.org/2000/svg\" height=\"24px\"viewBox=\"0 0 24 24\"\n",
              "       width=\"24px\">\n",
              "    <path d=\"M0 0h24v24H0V0z\" fill=\"none\"/>\n",
              "    <path d=\"M18.56 5.44l.94 2.06.94-2.06 2.06-.94-2.06-.94-.94-2.06-.94 2.06-2.06.94zm-11 1L8.5 8.5l.94-2.06 2.06-.94-2.06-.94L8.5 2.5l-.94 2.06-2.06.94zm10 10l.94 2.06.94-2.06 2.06-.94-2.06-.94-.94-2.06-.94 2.06-2.06.94z\"/><path d=\"M17.41 7.96l-1.37-1.37c-.4-.4-.92-.59-1.43-.59-.52 0-1.04.2-1.43.59L10.3 9.45l-7.72 7.72c-.78.78-.78 2.05 0 2.83L4 21.41c.39.39.9.59 1.41.59.51 0 1.02-.2 1.41-.59l7.78-7.78 2.81-2.81c.8-.78.8-2.07 0-2.86zM5.41 20L4 18.59l7.72-7.72 1.47 1.35L5.41 20z\"/>\n",
              "  </svg>\n",
              "      </button>\n",
              "      \n",
              "  <style>\n",
              "    .colab-df-container {\n",
              "      display:flex;\n",
              "      flex-wrap:wrap;\n",
              "      gap: 12px;\n",
              "    }\n",
              "\n",
              "    .colab-df-convert {\n",
              "      background-color: #E8F0FE;\n",
              "      border: none;\n",
              "      border-radius: 50%;\n",
              "      cursor: pointer;\n",
              "      display: none;\n",
              "      fill: #1967D2;\n",
              "      height: 32px;\n",
              "      padding: 0 0 0 0;\n",
              "      width: 32px;\n",
              "    }\n",
              "\n",
              "    .colab-df-convert:hover {\n",
              "      background-color: #E2EBFA;\n",
              "      box-shadow: 0px 1px 2px rgba(60, 64, 67, 0.3), 0px 1px 3px 1px rgba(60, 64, 67, 0.15);\n",
              "      fill: #174EA6;\n",
              "    }\n",
              "\n",
              "    [theme=dark] .colab-df-convert {\n",
              "      background-color: #3B4455;\n",
              "      fill: #D2E3FC;\n",
              "    }\n",
              "\n",
              "    [theme=dark] .colab-df-convert:hover {\n",
              "      background-color: #434B5C;\n",
              "      box-shadow: 0px 1px 3px 1px rgba(0, 0, 0, 0.15);\n",
              "      filter: drop-shadow(0px 1px 2px rgba(0, 0, 0, 0.3));\n",
              "      fill: #FFFFFF;\n",
              "    }\n",
              "  </style>\n",
              "\n",
              "      <script>\n",
              "        const buttonEl =\n",
              "          document.querySelector('#df-197ed6e8-5f4a-45b4-9111-4d59e002ad33 button.colab-df-convert');\n",
              "        buttonEl.style.display =\n",
              "          google.colab.kernel.accessAllowed ? 'block' : 'none';\n",
              "\n",
              "        async function convertToInteractive(key) {\n",
              "          const element = document.querySelector('#df-197ed6e8-5f4a-45b4-9111-4d59e002ad33');\n",
              "          const dataTable =\n",
              "            await google.colab.kernel.invokeFunction('convertToInteractive',\n",
              "                                                     [key], {});\n",
              "          if (!dataTable) return;\n",
              "\n",
              "          const docLinkHtml = 'Like what you see? Visit the ' +\n",
              "            '<a target=\"_blank\" href=https://colab.research.google.com/notebooks/data_table.ipynb>data table notebook</a>'\n",
              "            + ' to learn more about interactive tables.';\n",
              "          element.innerHTML = '';\n",
              "          dataTable['output_type'] = 'display_data';\n",
              "          await google.colab.output.renderOutput(dataTable, element);\n",
              "          const docLink = document.createElement('div');\n",
              "          docLink.innerHTML = docLinkHtml;\n",
              "          element.appendChild(docLink);\n",
              "        }\n",
              "      </script>\n",
              "    </div>\n",
              "  </div>\n",
              "  "
            ]
          },
          "metadata": {},
          "execution_count": 225
        }
      ]
    },
    {
      "cell_type": "markdown",
      "source": [
        "# Visualización de datos"
      ],
      "metadata": {
        "id": "f49r0tbmuqYo"
      }
    },
    {
      "cell_type": "markdown",
      "source": [
        "## Datos univariados"
      ],
      "metadata": {
        "id": "k8H63xJTut6o"
      }
    },
    {
      "cell_type": "code",
      "source": [
        "plt.hist(df[\"Age\"])"
      ],
      "metadata": {
        "colab": {
          "base_uri": "https://localhost:8080/",
          "height": 317
        },
        "id": "LBcxJplIumPw",
        "outputId": "c36a5ce3-1ca5-4a7f-a63d-ed239f9f20de"
      },
      "execution_count": 226,
      "outputs": [
        {
          "output_type": "execute_result",
          "data": {
            "text/plain": [
              "(array([ 20., 114.,  82., 106.,  88.,  94.,  73.,  51.,  29.,  11.]),\n",
              " array([13. , 19.9, 26.8, 33.7, 40.6, 47.5, 54.4, 61.3, 68.2, 75.1, 82. ]),\n",
              " <a list of 10 Patch objects>)"
            ]
          },
          "metadata": {},
          "execution_count": 226
        },
        {
          "output_type": "display_data",
          "data": {
            "text/plain": [
              "<Figure size 432x288 with 1 Axes>"
            ],
            "image/png": "[encoded data removed]"
          },
          "metadata": {
            "needs_background": "light"
          }
        }
      ]
    },
    {
      "cell_type": "markdown",
      "source": [
        "Conclusión: La mayoría de inviduos tienen entre 20 y 50 años."
      ],
      "metadata": {
        "id": "ZZFf8vslu0Oh"
      }
    },
    {
      "cell_type": "code",
      "source": [
        "plt.hist(df[\"Income\"])"
      ],
      "metadata": {
        "colab": {
          "base_uri": "https://localhost:8080/",
          "height": 334
        },
        "id": "OgJGMSpZu07P",
        "outputId": "4eaf0b6a-a376-481c-ae1d-7da567c2d255"
      },
      "execution_count": 227,
      "outputs": [
        {
          "output_type": "execute_result",
          "data": {
            "text/plain": [
              "(array([135.,   0.,  87., 116.,  62.,   0.,  79.,  51.,   0., 138.]),\n",
              " array([10000.  , 17500.05, 25000.1 , 32500.15, 40000.2 , 47500.25,\n",
              "        55000.3 , 62500.35, 70000.4 , 77500.45, 85000.5 ]),\n",
              " <a list of 10 Patch objects>)"
            ]
          },
          "metadata": {},
          "execution_count": 227
        },
        {
          "output_type": "display_data",
          "data": {
            "text/plain": [
              "<Figure size 432x288 with 1 Axes>"
            ],
            "image/png": "[encoded data removed]"
          },
          "metadata": {
            "needs_background": "light"
          }
        }
      ]
    },
    {
      "cell_type": "markdown",
      "source": [
        "Conclusión: La cantidad de ingresos que poseen la mayoría de individuos es 10.000 y 80.000 aproximadamente."
      ],
      "metadata": {
        "id": "WxM1D8BlvT3d"
      }
    },
    {
      "cell_type": "code",
      "source": [
        "plt.hist(df[\"AdultWhales\"])"
      ],
      "metadata": {
        "colab": {
          "base_uri": "https://localhost:8080/",
          "height": 317
        },
        "id": "7TUYv53Bu05m",
        "outputId": "b0e5071c-a8ea-4814-9b21-6bea516c996a"
      },
      "execution_count": 228,
      "outputs": [
        {
          "output_type": "execute_result",
          "data": {
            "text/plain": [
              "(array([ 98., 213., 236.,  73.,  23.,  13.,  11.,   0.,   0.,   1.]),\n",
              " array([ 0.,  3.,  6.,  9., 12., 15., 18., 21., 24., 27., 30.]),\n",
              " <a list of 10 Patch objects>)"
            ]
          },
          "metadata": {},
          "execution_count": 228
        },
        {
          "output_type": "display_data",
          "data": {
            "text/plain": [
              "<Figure size 432x288 with 1 Axes>"
            ],
            "image/png": "[encoded data removed]"
          },
          "metadata": {
            "needs_background": "light"
          }
        }
      ]
    },
    {
      "cell_type": "markdown",
      "source": [
        "Conclusión: La mayoría de los individuos han visto una cantidad de ballenas adultas entre 0 y 8 aproximadamente."
      ],
      "metadata": {
        "id": "7b_17ZPGwENQ"
      }
    },
    {
      "cell_type": "code",
      "source": [
        "plt.hist(df[\"Max_wtp\"])"
      ],
      "metadata": {
        "colab": {
          "base_uri": "https://localhost:8080/",
          "height": 317
        },
        "id": "fid7Q7ixu033",
        "outputId": "9559e57d-c982-46bc-8215-29edf073af11"
      },
      "execution_count": 229,
      "outputs": [
        {
          "output_type": "execute_result",
          "data": {
            "text/plain": [
              "(array([658.,   2.,   1.,   1.,   3.,   0.,   0.,   0.,   0.,   3.]),\n",
              " array([  0.,  25.,  50.,  75., 100., 125., 150., 175., 200., 225., 250.]),\n",
              " <a list of 10 Patch objects>)"
            ]
          },
          "metadata": {},
          "execution_count": 229
        },
        {
          "output_type": "display_data",
          "data": {
            "text/plain": [
              "<Figure size 432x288 with 1 Axes>"
            ],
            "image/png": "[encoded data removed]"
          },
          "metadata": {
            "needs_background": "light"
          }
        }
      ]
    },
    {
      "cell_type": "markdown",
      "source": [
        "Conclusión: La máxima disposición a pagar entre la mayoría de los individuos es de 25 aproximadamente y el valor máximo es de 250."
      ],
      "metadata": {
        "id": "GPcivrufw7Nl"
      }
    },
    {
      "cell_type": "code",
      "source": [
        "import seaborn as sns\n",
        "Country = df['Country'].value_counts()\n",
        "sns.barplot(x=Country.values, y=Country.index)\n",
        "plt.show()"
      ],
      "metadata": {
        "colab": {
          "base_uri": "https://localhost:8080/",
          "height": 265
        },
        "id": "RGhRaVTiu01n",
        "outputId": "6299671c-6318-4bd8-a48e-e2d73d2789de"
      },
      "execution_count": 230,
      "outputs": [
        {
          "output_type": "display_data",
          "data": {
            "text/plain": [
              "<Figure size 432x288 with 1 Axes>"
            ],
            "image/png": "[encoded data removed]"
          },
          "metadata": {
            "needs_background": "light"
          }
        }
      ]
    },
    {
      "cell_type": "markdown",
      "source": [
        "Conclusión:En la mayoría de los individuos su país de origen es Australia."
      ],
      "metadata": {
        "id": "3HeJWw-FzgSB"
      }
    },
    {
      "cell_type": "code",
      "source": [
        "SeeWhales = df['SeeWhales'].value_counts()\n",
        "sns.barplot(x=SeeWhales.index, y=SeeWhales.values)\n",
        "plt.show()"
      ],
      "metadata": {
        "colab": {
          "base_uri": "https://localhost:8080/",
          "height": 265
        },
        "id": "cEiqMEnRu0zv",
        "outputId": "0402b64c-8419-4ba3-c657-27c71c35c379"
      },
      "execution_count": 231,
      "outputs": [
        {
          "output_type": "display_data",
          "data": {
            "text/plain": [
              "<Figure size 432x288 with 1 Axes>"
            ],
            "image/png": "[encoded data removed]"
          },
          "metadata": {
            "needs_background": "light"
          }
        }
      ]
    },
    {
      "cell_type": "markdown",
      "source": [
        "Conclusión: Menos de 100 individuos vieron ballenas."
      ],
      "metadata": {
        "id": "rPXz1xrJzwZc"
      }
    },
    {
      "cell_type": "code",
      "source": [
        "Gender = df['Gender'].value_counts()\n",
        "sns.barplot(x=Gender.index, y=Gender.values)\n",
        "plt.show()"
      ],
      "metadata": {
        "colab": {
          "base_uri": "https://localhost:8080/",
          "height": 265
        },
        "id": "dqBHKblvu0xn",
        "outputId": "2ed06c0e-ed1c-41c1-e24a-2b691703532a"
      },
      "execution_count": 232,
      "outputs": [
        {
          "output_type": "display_data",
          "data": {
            "text/plain": [
              "<Figure size 432x288 with 1 Axes>"
            ],
            "image/png": "[encoded data removed]"
          },
          "metadata": {
            "needs_background": "light"
          }
        }
      ]
    },
    {
      "cell_type": "markdown",
      "source": [
        "Conclusión:La mayoría de los inviduos participantes son mujeres."
      ],
      "metadata": {
        "id": "SbYncq0U0DrX"
      }
    },
    {
      "cell_type": "code",
      "source": [
        "Education = df['Education'].value_counts()\n",
        "sns.barplot(x=Education.values, y=Education.index)\n",
        "plt.show()"
      ],
      "metadata": {
        "colab": {
          "base_uri": "https://localhost:8080/",
          "height": 265
        },
        "id": "lHeG-TFmu0vf",
        "outputId": "1c073956-c744-4a80-f2d2-d51db0c8bedd"
      },
      "execution_count": 233,
      "outputs": [
        {
          "output_type": "display_data",
          "data": {
            "text/plain": [
              "<Figure size 432x288 with 1 Axes>"
            ],
            "image/png": "[encoded data removed]"
          },
          "metadata": {
            "needs_background": "light"
          }
        }
      ]
    },
    {
      "cell_type": "markdown",
      "source": [
        "Conclusión:Más de 160 individuos tienen un nivel educativo de carrera universitaria."
      ],
      "metadata": {
        "id": "1FaOr5UD0T18"
      }
    },
    {
      "cell_type": "code",
      "source": [
        "Income_AUD = df['Income_AUD'].value_counts()\n",
        "sns.barplot(x=Income_AUD.values, y=Income_AUD.index)\n",
        "plt.show()"
      ],
      "metadata": {
        "colab": {
          "base_uri": "https://localhost:8080/",
          "height": 265
        },
        "id": "apHQfou7u0p_",
        "outputId": "13f89b86-3f28-4db1-cf61-9b11300a4c00"
      },
      "execution_count": 234,
      "outputs": [
        {
          "output_type": "display_data",
          "data": {
            "text/plain": [
              "<Figure size 432x288 with 1 Axes>"
            ],
            "image/png": "[encoded data removed]"
          },
          "metadata": {
            "needs_background": "light"
          }
        }
      ]
    },
    {
      "cell_type": "markdown",
      "source": [
        "Conclusión:Aproximadamente 140 individuos tienen un ingreso categórico de más de 70.000."
      ],
      "metadata": {
        "id": "p2HE33FK00fJ"
      }
    },
    {
      "cell_type": "code",
      "source": [
        "YoungWhales = df['YoungWhales'].value_counts()\n",
        "sns.barplot(x=YoungWhales.index, y=YoungWhales.values)\n",
        "plt.show()"
      ],
      "metadata": {
        "colab": {
          "base_uri": "https://localhost:8080/",
          "height": 265
        },
        "id": "l6uXSp1mwAwH",
        "outputId": "80b016b0-9692-48db-e142-f68c6547292b"
      },
      "execution_count": 235,
      "outputs": [
        {
          "output_type": "display_data",
          "data": {
            "text/plain": [
              "<Figure size 432x288 with 1 Axes>"
            ],
            "image/png": "[encoded data removed]"
          },
          "metadata": {
            "needs_background": "light"
          }
        }
      ]
    },
    {
      "cell_type": "markdown",
      "source": [
        "Conclusión: La mayoría de personas vio ballenas jóvenes."
      ],
      "metadata": {
        "id": "6xXId8ll1ReC"
      }
    },
    {
      "cell_type": "code",
      "source": [
        "wtp = df['wtp'].value_counts()\n",
        "sns.barplot(x=wtp.index, y=wtp.values)\n",
        "plt.show()"
      ],
      "metadata": {
        "colab": {
          "base_uri": "https://localhost:8080/",
          "height": 265
        },
        "id": "LUJmXhWkwAuX",
        "outputId": "275d9c2c-0254-4a9b-a83a-62b505d950e1"
      },
      "execution_count": 236,
      "outputs": [
        {
          "output_type": "display_data",
          "data": {
            "text/plain": [
              "<Figure size 432x288 with 1 Axes>"
            ],
            "image/png": "[encoded data removed]"
          },
          "metadata": {
            "needs_background": "light"
          }
        }
      ]
    },
    {
      "cell_type": "markdown",
      "source": [
        "Conclusión: La mayoría de los individuos tienen una disposición a pagar menor que lo propuesto para la conservación de las ballenas."
      ],
      "metadata": {
        "id": "M37bdO3B1j7w"
      }
    },
    {
      "cell_type": "markdown",
      "source": [
        "## Visualización bivariada"
      ],
      "metadata": {
        "id": "2hlTK2LAwxrP"
      }
    },
    {
      "cell_type": "code",
      "source": [
        "z = df.pivot_table(index='Country',aggfunc='count', columns='PayConserve')['wtp'].stack().reset_index()"
      ],
      "metadata": {
        "id": "MoBNI66t3QQi"
      },
      "execution_count": 237,
      "outputs": []
    },
    {
      "cell_type": "code",
      "source": [
        "sns.barplot(data=z, y='Country', x=0, hue='PayConserve')"
      ],
      "metadata": {
        "colab": {
          "base_uri": "https://localhost:8080/",
          "height": 296
        },
        "id": "UspzG4-L44_A",
        "outputId": "9638af93-8947-4777-a070-c98b8b5c6f83"
      },
      "execution_count": 238,
      "outputs": [
        {
          "output_type": "execute_result",
          "data": {
            "text/plain": [
              "<matplotlib.axes._subplots.AxesSubplot at 0x7f3af3af2f10>"
            ]
          },
          "metadata": {},
          "execution_count": 238
        },
        {
          "output_type": "display_data",
          "data": {
            "text/plain": [
              "<Figure size 432x288 with 1 Axes>"
            ],
            "image/png": "[encoded data removed]"
          },
          "metadata": {
            "needs_background": "light"
          }
        }
      ]
    },
    {
      "cell_type": "markdown",
      "source": [
        "Conclusión:En la mayoría de los paises la disposición a pagar 2 dolares cada semana es positiva exceptuando a USA e Irlanda en el cual la disposición fue mayormente negativa."
      ],
      "metadata": {
        "id": "H8fdx1s12MIC"
      }
    },
    {
      "cell_type": "code",
      "source": [
        "c = pd.crosstab(df['SeeWhales'],df['PayConserve']).stack().reset_index()"
      ],
      "metadata": {
        "id": "X8l_mFeyB7Kn"
      },
      "execution_count": 239,
      "outputs": []
    },
    {
      "cell_type": "code",
      "source": [
        "sns.barplot(data=c, x='SeeWhales', y=0, hue='PayConserve')"
      ],
      "metadata": {
        "colab": {
          "base_uri": "https://localhost:8080/",
          "height": 300
        },
        "id": "ZqbvL-X_CAnl",
        "outputId": "47b8c3ee-196e-48d7-8605-520e3dec4a17"
      },
      "execution_count": 240,
      "outputs": [
        {
          "output_type": "execute_result",
          "data": {
            "text/plain": [
              "<matplotlib.axes._subplots.AxesSubplot at 0x7f3af303ba50>"
            ]
          },
          "metadata": {},
          "execution_count": 240
        },
        {
          "output_type": "display_data",
          "data": {
            "text/plain": [
              "<Figure size 432x288 with 1 Axes>"
            ],
            "image/png": "[encoded data removed]"
          },
          "metadata": {
            "needs_background": "light"
          }
        }
      ]
    },
    {
      "cell_type": "markdown",
      "source": [
        "Conclusión: Aunque la mayoría de la población no ha visto ballenas, en esta se puede apreciar una disposición a pagar positiva."
      ],
      "metadata": {
        "id": "_Udwn9RXCIR3"
      }
    },
    {
      "cell_type": "code",
      "source": [
        "m = pd.crosstab(df['Gender'],df['PayConserve']).stack().reset_index()"
      ],
      "metadata": {
        "id": "T3-Cr1D_55q7"
      },
      "execution_count": 241,
      "outputs": []
    },
    {
      "cell_type": "code",
      "source": [
        "sns.barplot(data=m, x='Gender', y=0, hue='PayConserve')"
      ],
      "metadata": {
        "colab": {
          "base_uri": "https://localhost:8080/",
          "height": 296
        },
        "id": "JWCSqGsM6_R5",
        "outputId": "68246f73-9892-4f61-a1bb-ac5b8199e3b2"
      },
      "execution_count": 242,
      "outputs": [
        {
          "output_type": "execute_result",
          "data": {
            "text/plain": [
              "<matplotlib.axes._subplots.AxesSubplot at 0x7f3af2fbe210>"
            ]
          },
          "metadata": {},
          "execution_count": 242
        },
        {
          "output_type": "display_data",
          "data": {
            "text/plain": [
              "<Figure size 432x288 with 1 Axes>"
            ],
            "image/png": "[encoded data removed]"
          },
          "metadata": {
            "needs_background": "light"
          }
        }
      ]
    },
    {
      "cell_type": "markdown",
      "source": [
        "Conclusión:Se vio mayor disposición a pagar en el género femenino a comparación que el género masculino."
      ],
      "metadata": {
        "id": "N0NRyDQg3RA6"
      }
    },
    {
      "cell_type": "code",
      "source": [
        "e = pd.crosstab(df['Education'],df['PayConserve']).stack().reset_index()"
      ],
      "metadata": {
        "id": "crr3dMm07M0p"
      },
      "execution_count": 243,
      "outputs": []
    },
    {
      "cell_type": "code",
      "source": [
        "sns.barplot(data=e, y='Education', x=0, hue='PayConserve')"
      ],
      "metadata": {
        "colab": {
          "base_uri": "https://localhost:8080/",
          "height": 296
        },
        "id": "WUP-_fPu7My5",
        "outputId": "d91134a5-3217-4579-e635-e588f7a1723e"
      },
      "execution_count": 244,
      "outputs": [
        {
          "output_type": "execute_result",
          "data": {
            "text/plain": [
              "<matplotlib.axes._subplots.AxesSubplot at 0x7f3af2f2f850>"
            ]
          },
          "metadata": {},
          "execution_count": 244
        },
        {
          "output_type": "display_data",
          "data": {
            "text/plain": [
              "<Figure size 432x288 with 1 Axes>"
            ],
            "image/png": "[encoded data removed]"
          },
          "metadata": {
            "needs_background": "light"
          }
        }
      ]
    },
    {
      "cell_type": "markdown",
      "source": [
        "Conclusión: Entre mayor nivel de estudio se tenia entre los individuos era mayor la disposición a pagar."
      ],
      "metadata": {
        "id": "Q9u9pRvW3r7w"
      }
    },
    {
      "cell_type": "code",
      "source": [
        "i = pd.crosstab(df['Income_AUD'],df['PayConserve']).stack().reset_index()"
      ],
      "metadata": {
        "id": "G9qhb9Gg7MwS"
      },
      "execution_count": 245,
      "outputs": []
    },
    {
      "cell_type": "code",
      "source": [
        "sns.barplot(data=i, y='Income_AUD', x=0, hue='PayConserve')"
      ],
      "metadata": {
        "colab": {
          "base_uri": "https://localhost:8080/",
          "height": 296
        },
        "id": "MYz79Eps7LtZ",
        "outputId": "b4944a77-a8f1-48ea-df69-19b880966c46"
      },
      "execution_count": 246,
      "outputs": [
        {
          "output_type": "execute_result",
          "data": {
            "text/plain": [
              "<matplotlib.axes._subplots.AxesSubplot at 0x7f3af2e87190>"
            ]
          },
          "metadata": {},
          "execution_count": 246
        },
        {
          "output_type": "display_data",
          "data": {
            "text/plain": [
              "<Figure size 432x288 with 1 Axes>"
            ],
            "image/png": "[encoded data removed]"
          },
          "metadata": {
            "needs_background": "light"
          }
        }
      ]
    },
    {
      "cell_type": "markdown",
      "source": [
        "Conclusión: Los que tienen un ingreso categorizado de 20.000 o menor tienen mayor disposición a pagar."
      ],
      "metadata": {
        "id": "6sCHDENb4htP"
      }
    },
    {
      "cell_type": "code",
      "source": [
        "df.boxplot(column='Age',by='PayConserve')"
      ],
      "metadata": {
        "colab": {
          "base_uri": "https://localhost:8080/",
          "height": 373
        },
        "id": "NYLEJ2tX2QE0",
        "outputId": "0d4c01b0-1907-4bf9-ac7e-3773871b6c81"
      },
      "execution_count": 247,
      "outputs": [
        {
          "output_type": "stream",
          "name": "stderr",
          "text": [
            "/usr/local/lib/python3.7/dist-packages/matplotlib/cbook/__init__.py:1376: VisibleDeprecationWarning: Creating an ndarray from ragged nested sequences (which is a list-or-tuple of lists-or-tuples-or ndarrays with different lengths or shapes) is deprecated. If you meant to do this, you must specify 'dtype=object' when creating the ndarray.\n",
            "  X = np.atleast_1d(X.T if isinstance(X, np.ndarray) else np.asarray(X))\n"
          ]
        },
        {
          "output_type": "execute_result",
          "data": {
            "text/plain": [
              "<matplotlib.axes._subplots.AxesSubplot at 0x7f3af2d78590>"
            ]
          },
          "metadata": {},
          "execution_count": 247
        },
        {
          "output_type": "display_data",
          "data": {
            "text/plain": [
              "<Figure size 432x288 with 1 Axes>"
            ],
            "image/png": "[encoded data removed]"
          },
          "metadata": {
            "needs_background": "light"
          }
        }
      ]
    },
    {
      "cell_type": "markdown",
      "source": [
        "Conclusión: La mediana de los que estan dispuestos a pagar es de 40 años en los individuos y los que no estan dispuestos a pagar es de aproximadamente 43 años."
      ],
      "metadata": {
        "id": "-YLDzWKp5WWU"
      }
    },
    {
      "cell_type": "code",
      "source": [
        "df.boxplot(column='Income',by='PayConserve')"
      ],
      "metadata": {
        "colab": {
          "base_uri": "https://localhost:8080/",
          "height": 373
        },
        "id": "Tytf5GlixSsp",
        "outputId": "953fe586-a35e-4564-fb87-4171d2d020c6"
      },
      "execution_count": 248,
      "outputs": [
        {
          "output_type": "stream",
          "name": "stderr",
          "text": [
            "/usr/local/lib/python3.7/dist-packages/matplotlib/cbook/__init__.py:1376: VisibleDeprecationWarning: Creating an ndarray from ragged nested sequences (which is a list-or-tuple of lists-or-tuples-or ndarrays with different lengths or shapes) is deprecated. If you meant to do this, you must specify 'dtype=object' when creating the ndarray.\n",
            "  X = np.atleast_1d(X.T if isinstance(X, np.ndarray) else np.asarray(X))\n"
          ]
        },
        {
          "output_type": "execute_result",
          "data": {
            "text/plain": [
              "<matplotlib.axes._subplots.AxesSubplot at 0x7f3af2d23b90>"
            ]
          },
          "metadata": {},
          "execution_count": 248
        },
        {
          "output_type": "display_data",
          "data": {
            "text/plain": [
              "<Figure size 432x288 with 1 Axes>"
            ],
            "image/png": "[encoded data removed]"
          },
          "metadata": {
            "needs_background": "light"
          }
        }
      ]
    },
    {
      "cell_type": "markdown",
      "source": [
        "Conclusión: La mediana de el ingreso en dólares australianos en los que no estan dispuestos a pagar es de aproximadamente 35.000 y de los que estan dispuestos a pagar es aproximadamente de 45.000."
      ],
      "metadata": {
        "id": "8am4mg5Z57Dd"
      }
    },
    {
      "cell_type": "code",
      "source": [
        "df.boxplot(column='AdultWhales',by='PayConserve')"
      ],
      "metadata": {
        "colab": {
          "base_uri": "https://localhost:8080/",
          "height": 373
        },
        "id": "QzGAfCfkxSqR",
        "outputId": "9e133f33-d7c3-40f5-f4e9-6baeef2a68a3"
      },
      "execution_count": 249,
      "outputs": [
        {
          "output_type": "stream",
          "name": "stderr",
          "text": [
            "/usr/local/lib/python3.7/dist-packages/matplotlib/cbook/__init__.py:1376: VisibleDeprecationWarning: Creating an ndarray from ragged nested sequences (which is a list-or-tuple of lists-or-tuples-or ndarrays with different lengths or shapes) is deprecated. If you meant to do this, you must specify 'dtype=object' when creating the ndarray.\n",
            "  X = np.atleast_1d(X.T if isinstance(X, np.ndarray) else np.asarray(X))\n"
          ]
        },
        {
          "output_type": "execute_result",
          "data": {
            "text/plain": [
              "<matplotlib.axes._subplots.AxesSubplot at 0x7f3af2ca02d0>"
            ]
          },
          "metadata": {},
          "execution_count": 249
        },
        {
          "output_type": "display_data",
          "data": {
            "text/plain": [
              "<Figure size 432x288 with 1 Axes>"
            ],
            "image/png": "[encoded data removed]"
          },
          "metadata": {
            "needs_background": "light"
          }
        }
      ]
    },
    {
      "cell_type": "markdown",
      "source": [
        "Conclusión: La mediana del número de ballenas adultas vistas es igual en los que tienen disposición a pagar y lo que no la tienen."
      ],
      "metadata": {
        "id": "RrOBnMxp6ZF8"
      }
    },
    {
      "cell_type": "code",
      "source": [
        "l = pd.crosstab(df['YoungWhales'],df['PayConserve']).stack().reset_index()"
      ],
      "metadata": {
        "id": "707pF9Cjx7jx"
      },
      "execution_count": 250,
      "outputs": []
    },
    {
      "cell_type": "code",
      "source": [
        "sns.barplot(data=l, x='YoungWhales', y=0, hue='PayConserve')"
      ],
      "metadata": {
        "colab": {
          "base_uri": "https://localhost:8080/",
          "height": 296
        },
        "id": "-jR_w6aL8Fo8",
        "outputId": "8f4ed39a-37d8-45b3-c041-10ca280c8fc9"
      },
      "execution_count": 251,
      "outputs": [
        {
          "output_type": "execute_result",
          "data": {
            "text/plain": [
              "<matplotlib.axes._subplots.AxesSubplot at 0x7f3af2baf0d0>"
            ]
          },
          "metadata": {},
          "execution_count": 251
        },
        {
          "output_type": "display_data",
          "data": {
            "text/plain": [
              "<Figure size 432x288 with 1 Axes>"
            ],
            "image/png": "[encoded data removed]"
          },
          "metadata": {
            "needs_background": "light"
          }
        }
      ]
    },
    {
      "cell_type": "markdown",
      "source": [
        "Conclusión: La mayoría de las personas que vieron ballenas jóvenes estan dispuestos a pagar por la conservación del espacio de avistamiento."
      ],
      "metadata": {
        "id": "5KAJWpQD6rhy"
      }
    },
    {
      "cell_type": "code",
      "source": [
        "n = pd.crosstab(df['Max_wtp'],df['PayConserve']).stack().reset_index()"
      ],
      "metadata": {
        "id": "q4Nj-7qFx7h-"
      },
      "execution_count": 252,
      "outputs": []
    },
    {
      "cell_type": "code",
      "source": [
        "sns.barplot(data=n, y='Max_wtp', x=0, hue='PayConserve')"
      ],
      "metadata": {
        "colab": {
          "base_uri": "https://localhost:8080/",
          "height": 296
        },
        "id": "4ieQAR1y8zFP",
        "outputId": "2708c5c3-055e-4470-d4af-0a77028e396a"
      },
      "execution_count": 253,
      "outputs": [
        {
          "output_type": "execute_result",
          "data": {
            "text/plain": [
              "<matplotlib.axes._subplots.AxesSubplot at 0x7f3af2b43090>"
            ]
          },
          "metadata": {},
          "execution_count": 253
        },
        {
          "output_type": "display_data",
          "data": {
            "text/plain": [
              "<Figure size 432x288 with 1 Axes>"
            ],
            "image/png": "[encoded data removed]"
          },
          "metadata": {
            "needs_background": "light"
          }
        }
      ]
    },
    {
      "cell_type": "markdown",
      "source": [
        "Conclusión: Entre 3 a 5 individuos aproximadamente estan dispuestos a pagar entre 75 y 100 para la conservación de los espacios de avistamientos."
      ],
      "metadata": {
        "id": "SqDJfIPw7kCD"
      }
    },
    {
      "cell_type": "code",
      "source": [
        "t = pd.crosstab(df['wtp'],df['PayConserve']).stack().reset_index()"
      ],
      "metadata": {
        "id": "ojRVmUhfx7f_"
      },
      "execution_count": 254,
      "outputs": []
    },
    {
      "cell_type": "code",
      "source": [
        "sns.barplot(data=t, x='wtp', y=0, hue='PayConserve')"
      ],
      "metadata": {
        "colab": {
          "base_uri": "https://localhost:8080/",
          "height": 296
        },
        "id": "SHuH_XDW9Ele",
        "outputId": "b563d372-0f6b-44e1-81f1-d56c247ed191"
      },
      "execution_count": 255,
      "outputs": [
        {
          "output_type": "execute_result",
          "data": {
            "text/plain": [
              "<matplotlib.axes._subplots.AxesSubplot at 0x7f3af2a52d50>"
            ]
          },
          "metadata": {},
          "execution_count": 255
        },
        {
          "output_type": "display_data",
          "data": {
            "text/plain": [
              "<Figure size 432x288 with 1 Axes>"
            ],
            "image/png": "[encoded data removed]"
          },
          "metadata": {
            "needs_background": "light"
          }
        }
      ]
    },
    {
      "cell_type": "markdown",
      "source": [
        "Conclusión: La mayoría de los individuos que estan dispuestos a pagar, estan dispuestos a pagar menos de los dos dólares semanales por 10 años."
      ],
      "metadata": {
        "id": "ulBF_jMk8DBn"
      }
    },
    {
      "cell_type": "code",
      "source": [
        "df"
      ],
      "metadata": {
        "colab": {
          "base_uri": "https://localhost:8080/",
          "height": 696
        },
        "id": "S67d3gpkxSip",
        "outputId": "a60f95e9-deaf-43e9-f8df-bec80868fd92"
      },
      "execution_count": 256,
      "outputs": [
        {
          "output_type": "execute_result",
          "data": {
            "text/plain": [
              "       Country  SeeWhales   Age  Gender             Education  \\\n",
              "0    Australia          1  31.0       0               Diploma   \n",
              "1           UK          0  22.0       0                Degree   \n",
              "2          USA          0  46.0       0                Degree   \n",
              "3       France          0  37.0       0               Diploma   \n",
              "5    Australia          0  65.0       1  Post-graduate degree   \n",
              "..         ...        ...   ...     ...                   ...   \n",
              "696  Australia          0  56.0       0     Completed year 10   \n",
              "697  Australia          0  38.0       0     Completed year 10   \n",
              "698  Australia          0  24.0       0               Diploma   \n",
              "699  Australia          0  50.0       1  Post-graduate degree   \n",
              "700  Australia          0  32.0       1                Degree   \n",
              "\n",
              "            Income_AUD   Income  AdultWhales  YoungWhales  Max_wtp   wtp  \\\n",
              "0    $60,001 - $70,000  65000.5            2            1      0.0  Less   \n",
              "1    Less than $20,000  10000.0            6            0      0.0  More   \n",
              "2    More than $70,000  85000.5            7            0      0.0  More   \n",
              "3    $20,001 - $30,000  25000.5            4            1      0.0  More   \n",
              "5    $40,001 - $50,000  45000.5            3            1      1.0  Same   \n",
              "..                 ...      ...          ...          ...      ...   ...   \n",
              "696  Less than $20,000  10000.0            0            1      1.0  Same   \n",
              "697  $30,001 - $40,000  35000.5            6            1      2.0  Same   \n",
              "698  $20,001 - $30,000  25000.5            6            0      2.0  Less   \n",
              "699  $30,001 - $40,000  35000.5            2            1      5.0  Same   \n",
              "700  More than $70,000  85000.5            8            1      0.0  Same   \n",
              "\n",
              "     PayConserve  \n",
              "0              1  \n",
              "1              0  \n",
              "2              0  \n",
              "3              1  \n",
              "5              1  \n",
              "..           ...  \n",
              "696            1  \n",
              "697            1  \n",
              "698            1  \n",
              "699            1  \n",
              "700            0  \n",
              "\n",
              "[668 rows x 12 columns]"
            ],
            "text/html": [
              "\n",
              "  <div id=\"df-eb54848f-c814-446e-af82-d08a568213a7\">\n",
              "    <div class=\"colab-df-container\">\n",
              "      <div>\n",
              "<style scoped>\n",
              "    .dataframe tbody tr th:only-of-type {\n",
              "        vertical-align: middle;\n",
              "    }\n",
              "\n",
              "    .dataframe tbody tr th {\n",
              "        vertical-align: top;\n",
              "    }\n",
              "\n",
              "    .dataframe thead th {\n",
              "        text-align: right;\n",
              "    }\n",
              "</style>\n",
              "<table border=\"1\" class=\"dataframe\">\n",
              "  <thead>\n",
              "    <tr style=\"text-align: right;\">\n",
              "      <th></th>\n",
              "      <th>Country</th>\n",
              "      <th>SeeWhales</th>\n",
              "      <th>Age</th>\n",
              "      <th>Gender</th>\n",
              "      <th>Education</th>\n",
              "      <th>Income_AUD</th>\n",
              "      <th>Income</th>\n",
              "      <th>AdultWhales</th>\n",
              "      <th>YoungWhales</th>\n",
              "      <th>Max_wtp</th>\n",
              "      <th>wtp</th>\n",
              "      <th>PayConserve</th>\n",
              "    </tr>\n",
              "  </thead>\n",
              "  <tbody>\n",
              "    <tr>\n",
              "      <th>0</th>\n",
              "      <td>Australia</td>\n",
              "      <td>1</td>\n",
              "      <td>31.0</td>\n",
              "      <td>0</td>\n",
              "      <td>Diploma</td>\n",
              "      <td>$60,001 - $70,000</td>\n",
              "      <td>65000.5</td>\n",
              "      <td>2</td>\n",
              "      <td>1</td>\n",
              "      <td>0.0</td>\n",
              "      <td>Less</td>\n",
              "      <td>1</td>\n",
              "    </tr>\n",
              "    <tr>\n",
              "      <th>1</th>\n",
              "      <td>UK</td>\n",
              "      <td>0</td>\n",
              "      <td>22.0</td>\n",
              "      <td>0</td>\n",
              "      <td>Degree</td>\n",
              "      <td>Less than $20,000</td>\n",
              "      <td>10000.0</td>\n",
              "      <td>6</td>\n",
              "      <td>0</td>\n",
              "      <td>0.0</td>\n",
              "      <td>More</td>\n",
              "      <td>0</td>\n",
              "    </tr>\n",
              "    <tr>\n",
              "      <th>2</th>\n",
              "      <td>USA</td>\n",
              "      <td>0</td>\n",
              "      <td>46.0</td>\n",
              "      <td>0</td>\n",
              "      <td>Degree</td>\n",
              "      <td>More than $70,000</td>\n",
              "      <td>85000.5</td>\n",
              "      <td>7</td>\n",
              "      <td>0</td>\n",
              "      <td>0.0</td>\n",
              "      <td>More</td>\n",
              "      <td>0</td>\n",
              "    </tr>\n",
              "    <tr>\n",
              "      <th>3</th>\n",
              "      <td>France</td>\n",
              "      <td>0</td>\n",
              "      <td>37.0</td>\n",
              "      <td>0</td>\n",
              "      <td>Diploma</td>\n",
              "      <td>$20,001 - $30,000</td>\n",
              "      <td>25000.5</td>\n",
              "      <td>4</td>\n",
              "      <td>1</td>\n",
              "      <td>0.0</td>\n",
              "      <td>More</td>\n",
              "      <td>1</td>\n",
              "    </tr>\n",
              "    <tr>\n",
              "      <th>5</th>\n",
              "      <td>Australia</td>\n",
              "      <td>0</td>\n",
              "      <td>65.0</td>\n",
              "      <td>1</td>\n",
              "      <td>Post-graduate degree</td>\n",
              "      <td>$40,001 - $50,000</td>\n",
              "      <td>45000.5</td>\n",
              "      <td>3</td>\n",
              "      <td>1</td>\n",
              "      <td>1.0</td>\n",
              "      <td>Same</td>\n",
              "      <td>1</td>\n",
              "    </tr>\n",
              "    <tr>\n",
              "      <th>...</th>\n",
              "      <td>...</td>\n",
              "      <td>...</td>\n",
              "      <td>...</td>\n",
              "      <td>...</td>\n",
              "      <td>...</td>\n",
              "      <td>...</td>\n",
              "      <td>...</td>\n",
              "      <td>...</td>\n",
              "      <td>...</td>\n",
              "      <td>...</td>\n",
              "      <td>...</td>\n",
              "      <td>...</td>\n",
              "    </tr>\n",
              "    <tr>\n",
              "      <th>696</th>\n",
              "      <td>Australia</td>\n",
              "      <td>0</td>\n",
              "      <td>56.0</td>\n",
              "      <td>0</td>\n",
              "      <td>Completed year 10</td>\n",
              "      <td>Less than $20,000</td>\n",
              "      <td>10000.0</td>\n",
              "      <td>0</td>\n",
              "      <td>1</td>\n",
              "      <td>1.0</td>\n",
              "      <td>Same</td>\n",
              "      <td>1</td>\n",
              "    </tr>\n",
              "    <tr>\n",
              "      <th>697</th>\n",
              "      <td>Australia</td>\n",
              "      <td>0</td>\n",
              "      <td>38.0</td>\n",
              "      <td>0</td>\n",
              "      <td>Completed year 10</td>\n",
              "      <td>$30,001 - $40,000</td>\n",
              "      <td>35000.5</td>\n",
              "      <td>6</td>\n",
              "      <td>1</td>\n",
              "      <td>2.0</td>\n",
              "      <td>Same</td>\n",
              "      <td>1</td>\n",
              "    </tr>\n",
              "    <tr>\n",
              "      <th>698</th>\n",
              "      <td>Australia</td>\n",
              "      <td>0</td>\n",
              "      <td>24.0</td>\n",
              "      <td>0</td>\n",
              "      <td>Diploma</td>\n",
              "      <td>$20,001 - $30,000</td>\n",
              "      <td>25000.5</td>\n",
              "      <td>6</td>\n",
              "      <td>0</td>\n",
              "      <td>2.0</td>\n",
              "      <td>Less</td>\n",
              "      <td>1</td>\n",
              "    </tr>\n",
              "    <tr>\n",
              "      <th>699</th>\n",
              "      <td>Australia</td>\n",
              "      <td>0</td>\n",
              "      <td>50.0</td>\n",
              "      <td>1</td>\n",
              "      <td>Post-graduate degree</td>\n",
              "      <td>$30,001 - $40,000</td>\n",
              "      <td>35000.5</td>\n",
              "      <td>2</td>\n",
              "      <td>1</td>\n",
              "      <td>5.0</td>\n",
              "      <td>Same</td>\n",
              "      <td>1</td>\n",
              "    </tr>\n",
              "    <tr>\n",
              "      <th>700</th>\n",
              "      <td>Australia</td>\n",
              "      <td>0</td>\n",
              "      <td>32.0</td>\n",
              "      <td>1</td>\n",
              "      <td>Degree</td>\n",
              "      <td>More than $70,000</td>\n",
              "      <td>85000.5</td>\n",
              "      <td>8</td>\n",
              "      <td>1</td>\n",
              "      <td>0.0</td>\n",
              "      <td>Same</td>\n",
              "      <td>0</td>\n",
              "    </tr>\n",
              "  </tbody>\n",
              "</table>\n",
              "<p>668 rows × 12 columns</p>\n",
              "</div>\n",
              "      <button class=\"colab-df-convert\" onclick=\"convertToInteractive('df-eb54848f-c814-446e-af82-d08a568213a7')\"\n",
              "              title=\"Convert this dataframe to an interactive table.\"\n",
              "              style=\"display:none;\">\n",
              "        \n",
              "  <svg xmlns=\"http://www.w3.org/2000/svg\" height=\"24px\"viewBox=\"0 0 24 24\"\n",
              "       width=\"24px\">\n",
              "    <path d=\"M0 0h24v24H0V0z\" fill=\"none\"/>\n",
              "    <path d=\"M18.56 5.44l.94 2.06.94-2.06 2.06-.94-2.06-.94-.94-2.06-.94 2.06-2.06.94zm-11 1L8.5 8.5l.94-2.06 2.06-.94-2.06-.94L8.5 2.5l-.94 2.06-2.06.94zm10 10l.94 2.06.94-2.06 2.06-.94-2.06-.94-.94-2.06-.94 2.06-2.06.94z\"/><path d=\"M17.41 7.96l-1.37-1.37c-.4-.4-.92-.59-1.43-.59-.52 0-1.04.2-1.43.59L10.3 9.45l-7.72 7.72c-.78.78-.78 2.05 0 2.83L4 21.41c.39.39.9.59 1.41.59.51 0 1.02-.2 1.41-.59l7.78-7.78 2.81-2.81c.8-.78.8-2.07 0-2.86zM5.41 20L4 18.59l7.72-7.72 1.47 1.35L5.41 20z\"/>\n",
              "  </svg>\n",
              "      </button>\n",
              "      \n",
              "  <style>\n",
              "    .colab-df-container {\n",
              "      display:flex;\n",
              "      flex-wrap:wrap;\n",
              "      gap: 12px;\n",
              "    }\n",
              "\n",
              "    .colab-df-convert {\n",
              "      background-color: #E8F0FE;\n",
              "      border: none;\n",
              "      border-radius: 50%;\n",
              "      cursor: pointer;\n",
              "      display: none;\n",
              "      fill: #1967D2;\n",
              "      height: 32px;\n",
              "      padding: 0 0 0 0;\n",
              "      width: 32px;\n",
              "    }\n",
              "\n",
              "    .colab-df-convert:hover {\n",
              "      background-color: #E2EBFA;\n",
              "      box-shadow: 0px 1px 2px rgba(60, 64, 67, 0.3), 0px 1px 3px 1px rgba(60, 64, 67, 0.15);\n",
              "      fill: #174EA6;\n",
              "    }\n",
              "\n",
              "    [theme=dark] .colab-df-convert {\n",
              "      background-color: #3B4455;\n",
              "      fill: #D2E3FC;\n",
              "    }\n",
              "\n",
              "    [theme=dark] .colab-df-convert:hover {\n",
              "      background-color: #434B5C;\n",
              "      box-shadow: 0px 1px 3px 1px rgba(0, 0, 0, 0.15);\n",
              "      filter: drop-shadow(0px 1px 2px rgba(0, 0, 0, 0.3));\n",
              "      fill: #FFFFFF;\n",
              "    }\n",
              "  </style>\n",
              "\n",
              "      <script>\n",
              "        const buttonEl =\n",
              "          document.querySelector('#df-eb54848f-c814-446e-af82-d08a568213a7 button.colab-df-convert');\n",
              "        buttonEl.style.display =\n",
              "          google.colab.kernel.accessAllowed ? 'block' : 'none';\n",
              "\n",
              "        async function convertToInteractive(key) {\n",
              "          const element = document.querySelector('#df-eb54848f-c814-446e-af82-d08a568213a7');\n",
              "          const dataTable =\n",
              "            await google.colab.kernel.invokeFunction('convertToInteractive',\n",
              "                                                     [key], {});\n",
              "          if (!dataTable) return;\n",
              "\n",
              "          const docLinkHtml = 'Like what you see? Visit the ' +\n",
              "            '<a target=\"_blank\" href=https://colab.research.google.com/notebooks/data_table.ipynb>data table notebook</a>'\n",
              "            + ' to learn more about interactive tables.';\n",
              "          element.innerHTML = '';\n",
              "          dataTable['output_type'] = 'display_data';\n",
              "          await google.colab.output.renderOutput(dataTable, element);\n",
              "          const docLink = document.createElement('div');\n",
              "          docLink.innerHTML = docLinkHtml;\n",
              "          element.appendChild(docLink);\n",
              "        }\n",
              "      </script>\n",
              "    </div>\n",
              "  </div>\n",
              "  "
            ]
          },
          "metadata": {},
          "execution_count": 256
        }
      ]
    },
    {
      "cell_type": "code",
      "source": [
        "df=df.drop(columns=['Country','SeeWhales','Education','Income_AUD','wtp'], axis=1)"
      ],
      "metadata": {
        "id": "7NXPfrgcrRRp"
      },
      "execution_count": 257,
      "outputs": []
    },
    {
      "cell_type": "code",
      "source": [
        "df"
      ],
      "metadata": {
        "colab": {
          "base_uri": "https://localhost:8080/",
          "height": 424
        },
        "id": "x-IR1zi3sVO5",
        "outputId": "d07b5c8e-759d-48e8-97bb-813844ba94f7"
      },
      "execution_count": 258,
      "outputs": [
        {
          "output_type": "execute_result",
          "data": {
            "text/plain": [
              "      Age  Gender   Income  AdultWhales  YoungWhales  Max_wtp  PayConserve\n",
              "0    31.0       0  65000.5            2            1      0.0            1\n",
              "1    22.0       0  10000.0            6            0      0.0            0\n",
              "2    46.0       0  85000.5            7            0      0.0            0\n",
              "3    37.0       0  25000.5            4            1      0.0            1\n",
              "5    65.0       1  45000.5            3            1      1.0            1\n",
              "..    ...     ...      ...          ...          ...      ...          ...\n",
              "696  56.0       0  10000.0            0            1      1.0            1\n",
              "697  38.0       0  35000.5            6            1      2.0            1\n",
              "698  24.0       0  25000.5            6            0      2.0            1\n",
              "699  50.0       1  35000.5            2            1      5.0            1\n",
              "700  32.0       1  85000.5            8            1      0.0            0\n",
              "\n",
              "[668 rows x 7 columns]"
            ],
            "text/html": [
              "\n",
              "  <div id=\"df-b266f503-8425-4526-a48d-0b18a3b2f2f1\">\n",
              "    <div class=\"colab-df-container\">\n",
              "      <div>\n",
              "<style scoped>\n",
              "    .dataframe tbody tr th:only-of-type {\n",
              "        vertical-align: middle;\n",
              "    }\n",
              "\n",
              "    .dataframe tbody tr th {\n",
              "        vertical-align: top;\n",
              "    }\n",
              "\n",
              "    .dataframe thead th {\n",
              "        text-align: right;\n",
              "    }\n",
              "</style>\n",
              "<table border=\"1\" class=\"dataframe\">\n",
              "  <thead>\n",
              "    <tr style=\"text-align: right;\">\n",
              "      <th></th>\n",
              "      <th>Age</th>\n",
              "      <th>Gender</th>\n",
              "      <th>Income</th>\n",
              "      <th>AdultWhales</th>\n",
              "      <th>YoungWhales</th>\n",
              "      <th>Max_wtp</th>\n",
              "      <th>PayConserve</th>\n",
              "    </tr>\n",
              "  </thead>\n",
              "  <tbody>\n",
              "    <tr>\n",
              "      <th>0</th>\n",
              "      <td>31.0</td>\n",
              "      <td>0</td>\n",
              "      <td>65000.5</td>\n",
              "      <td>2</td>\n",
              "      <td>1</td>\n",
              "      <td>0.0</td>\n",
              "      <td>1</td>\n",
              "    </tr>\n",
              "    <tr>\n",
              "      <th>1</th>\n",
              "      <td>22.0</td>\n",
              "      <td>0</td>\n",
              "      <td>10000.0</td>\n",
              "      <td>6</td>\n",
              "      <td>0</td>\n",
              "      <td>0.0</td>\n",
              "      <td>0</td>\n",
              "    </tr>\n",
              "    <tr>\n",
              "      <th>2</th>\n",
              "      <td>46.0</td>\n",
              "      <td>0</td>\n",
              "      <td>85000.5</td>\n",
              "      <td>7</td>\n",
              "      <td>0</td>\n",
              "      <td>0.0</td>\n",
              "      <td>0</td>\n",
              "    </tr>\n",
              "    <tr>\n",
              "      <th>3</th>\n",
              "      <td>37.0</td>\n",
              "      <td>0</td>\n",
              "      <td>25000.5</td>\n",
              "      <td>4</td>\n",
              "      <td>1</td>\n",
              "      <td>0.0</td>\n",
              "      <td>1</td>\n",
              "    </tr>\n",
              "    <tr>\n",
              "      <th>5</th>\n",
              "      <td>65.0</td>\n",
              "      <td>1</td>\n",
              "      <td>45000.5</td>\n",
              "      <td>3</td>\n",
              "      <td>1</td>\n",
              "      <td>1.0</td>\n",
              "      <td>1</td>\n",
              "    </tr>\n",
              "    <tr>\n",
              "      <th>...</th>\n",
              "      <td>...</td>\n",
              "      <td>...</td>\n",
              "      <td>...</td>\n",
              "      <td>...</td>\n",
              "      <td>...</td>\n",
              "      <td>...</td>\n",
              "      <td>...</td>\n",
              "    </tr>\n",
              "    <tr>\n",
              "      <th>696</th>\n",
              "      <td>56.0</td>\n",
              "      <td>0</td>\n",
              "      <td>10000.0</td>\n",
              "      <td>0</td>\n",
              "      <td>1</td>\n",
              "      <td>1.0</td>\n",
              "      <td>1</td>\n",
              "    </tr>\n",
              "    <tr>\n",
              "      <th>697</th>\n",
              "      <td>38.0</td>\n",
              "      <td>0</td>\n",
              "      <td>35000.5</td>\n",
              "      <td>6</td>\n",
              "      <td>1</td>\n",
              "      <td>2.0</td>\n",
              "      <td>1</td>\n",
              "    </tr>\n",
              "    <tr>\n",
              "      <th>698</th>\n",
              "      <td>24.0</td>\n",
              "      <td>0</td>\n",
              "      <td>25000.5</td>\n",
              "      <td>6</td>\n",
              "      <td>0</td>\n",
              "      <td>2.0</td>\n",
              "      <td>1</td>\n",
              "    </tr>\n",
              "    <tr>\n",
              "      <th>699</th>\n",
              "      <td>50.0</td>\n",
              "      <td>1</td>\n",
              "      <td>35000.5</td>\n",
              "      <td>2</td>\n",
              "      <td>1</td>\n",
              "      <td>5.0</td>\n",
              "      <td>1</td>\n",
              "    </tr>\n",
              "    <tr>\n",
              "      <th>700</th>\n",
              "      <td>32.0</td>\n",
              "      <td>1</td>\n",
              "      <td>85000.5</td>\n",
              "      <td>8</td>\n",
              "      <td>1</td>\n",
              "      <td>0.0</td>\n",
              "      <td>0</td>\n",
              "    </tr>\n",
              "  </tbody>\n",
              "</table>\n",
              "<p>668 rows × 7 columns</p>\n",
              "</div>\n",
              "      <button class=\"colab-df-convert\" onclick=\"convertToInteractive('df-b266f503-8425-4526-a48d-0b18a3b2f2f1')\"\n",
              "              title=\"Convert this dataframe to an interactive table.\"\n",
              "              style=\"display:none;\">\n",
              "        \n",
              "  <svg xmlns=\"http://www.w3.org/2000/svg\" height=\"24px\"viewBox=\"0 0 24 24\"\n",
              "       width=\"24px\">\n",
              "    <path d=\"M0 0h24v24H0V0z\" fill=\"none\"/>\n",
              "    <path d=\"M18.56 5.44l.94 2.06.94-2.06 2.06-.94-2.06-.94-.94-2.06-.94 2.06-2.06.94zm-11 1L8.5 8.5l.94-2.06 2.06-.94-2.06-.94L8.5 2.5l-.94 2.06-2.06.94zm10 10l.94 2.06.94-2.06 2.06-.94-2.06-.94-.94-2.06-.94 2.06-2.06.94z\"/><path d=\"M17.41 7.96l-1.37-1.37c-.4-.4-.92-.59-1.43-.59-.52 0-1.04.2-1.43.59L10.3 9.45l-7.72 7.72c-.78.78-.78 2.05 0 2.83L4 21.41c.39.39.9.59 1.41.59.51 0 1.02-.2 1.41-.59l7.78-7.78 2.81-2.81c.8-.78.8-2.07 0-2.86zM5.41 20L4 18.59l7.72-7.72 1.47 1.35L5.41 20z\"/>\n",
              "  </svg>\n",
              "      </button>\n",
              "      \n",
              "  <style>\n",
              "    .colab-df-container {\n",
              "      display:flex;\n",
              "      flex-wrap:wrap;\n",
              "      gap: 12px;\n",
              "    }\n",
              "\n",
              "    .colab-df-convert {\n",
              "      background-color: #E8F0FE;\n",
              "      border: none;\n",
              "      border-radius: 50%;\n",
              "      cursor: pointer;\n",
              "      display: none;\n",
              "      fill: #1967D2;\n",
              "      height: 32px;\n",
              "      padding: 0 0 0 0;\n",
              "      width: 32px;\n",
              "    }\n",
              "\n",
              "    .colab-df-convert:hover {\n",
              "      background-color: #E2EBFA;\n",
              "      box-shadow: 0px 1px 2px rgba(60, 64, 67, 0.3), 0px 1px 3px 1px rgba(60, 64, 67, 0.15);\n",
              "      fill: #174EA6;\n",
              "    }\n",
              "\n",
              "    [theme=dark] .colab-df-convert {\n",
              "      background-color: #3B4455;\n",
              "      fill: #D2E3FC;\n",
              "    }\n",
              "\n",
              "    [theme=dark] .colab-df-convert:hover {\n",
              "      background-color: #434B5C;\n",
              "      box-shadow: 0px 1px 3px 1px rgba(0, 0, 0, 0.15);\n",
              "      filter: drop-shadow(0px 1px 2px rgba(0, 0, 0, 0.3));\n",
              "      fill: #FFFFFF;\n",
              "    }\n",
              "  </style>\n",
              "\n",
              "      <script>\n",
              "        const buttonEl =\n",
              "          document.querySelector('#df-b266f503-8425-4526-a48d-0b18a3b2f2f1 button.colab-df-convert');\n",
              "        buttonEl.style.display =\n",
              "          google.colab.kernel.accessAllowed ? 'block' : 'none';\n",
              "\n",
              "        async function convertToInteractive(key) {\n",
              "          const element = document.querySelector('#df-b266f503-8425-4526-a48d-0b18a3b2f2f1');\n",
              "          const dataTable =\n",
              "            await google.colab.kernel.invokeFunction('convertToInteractive',\n",
              "                                                     [key], {});\n",
              "          if (!dataTable) return;\n",
              "\n",
              "          const docLinkHtml = 'Like what you see? Visit the ' +\n",
              "            '<a target=\"_blank\" href=https://colab.research.google.com/notebooks/data_table.ipynb>data table notebook</a>'\n",
              "            + ' to learn more about interactive tables.';\n",
              "          element.innerHTML = '';\n",
              "          dataTable['output_type'] = 'display_data';\n",
              "          await google.colab.output.renderOutput(dataTable, element);\n",
              "          const docLink = document.createElement('div');\n",
              "          docLink.innerHTML = docLinkHtml;\n",
              "          element.appendChild(docLink);\n",
              "        }\n",
              "      </script>\n",
              "    </div>\n",
              "  </div>\n",
              "  "
            ]
          },
          "metadata": {},
          "execution_count": 258
        }
      ]
    },
    {
      "cell_type": "markdown",
      "source": [
        "# Análisis de correlación"
      ],
      "metadata": {
        "id": "HwMc3wze85EP"
      }
    },
    {
      "cell_type": "code",
      "source": [
        "df.corr()"
      ],
      "metadata": {
        "colab": {
          "base_uri": "https://localhost:8080/",
          "height": 333
        },
        "id": "K8e_-ZGX_wjo",
        "outputId": "5ca299ca-b3ce-4110-e39d-c3b88b88282c"
      },
      "execution_count": 259,
      "outputs": [
        {
          "output_type": "execute_result",
          "data": {
            "text/plain": [
              "                  Age    Gender    Income  AdultWhales  YoungWhales   Max_wtp  \\\n",
              "Age          1.000000  0.105724 -0.099886     0.090113     0.031347 -0.051015   \n",
              "Gender       0.105724  1.000000  0.103052     0.070860     0.058259  0.019567   \n",
              "Income      -0.099886  0.103052  1.000000     0.059070     0.117574  0.051494   \n",
              "AdultWhales  0.090113  0.070860  0.059070     1.000000    -0.005848  0.243281   \n",
              "YoungWhales  0.031347  0.058259  0.117574    -0.005848     1.000000  0.047691   \n",
              "Max_wtp     -0.051015  0.019567  0.051494     0.243281     0.047691  1.000000   \n",
              "PayConserve -0.101716 -0.010691 -0.016063     0.040078     0.012819  0.125401   \n",
              "\n",
              "             PayConserve  \n",
              "Age            -0.101716  \n",
              "Gender         -0.010691  \n",
              "Income         -0.016063  \n",
              "AdultWhales     0.040078  \n",
              "YoungWhales     0.012819  \n",
              "Max_wtp         0.125401  \n",
              "PayConserve     1.000000  "
            ],
            "text/html": [
              "\n",
              "  <div id=\"df-75da88c3-c084-4b5a-912c-6ed13cc52960\">\n",
              "    <div class=\"colab-df-container\">\n",
              "      <div>\n",
              "<style scoped>\n",
              "    .dataframe tbody tr th:only-of-type {\n",
              "        vertical-align: middle;\n",
              "    }\n",
              "\n",
              "    .dataframe tbody tr th {\n",
              "        vertical-align: top;\n",
              "    }\n",
              "\n",
              "    .dataframe thead th {\n",
              "        text-align: right;\n",
              "    }\n",
              "</style>\n",
              "<table border=\"1\" class=\"dataframe\">\n",
              "  <thead>\n",
              "    <tr style=\"text-align: right;\">\n",
              "      <th></th>\n",
              "      <th>Age</th>\n",
              "      <th>Gender</th>\n",
              "      <th>Income</th>\n",
              "      <th>AdultWhales</th>\n",
              "      <th>YoungWhales</th>\n",
              "      <th>Max_wtp</th>\n",
              "      <th>PayConserve</th>\n",
              "    </tr>\n",
              "  </thead>\n",
              "  <tbody>\n",
              "    <tr>\n",
              "      <th>Age</th>\n",
              "      <td>1.000000</td>\n",
              "      <td>0.105724</td>\n",
              "      <td>-0.099886</td>\n",
              "      <td>0.090113</td>\n",
              "      <td>0.031347</td>\n",
              "      <td>-0.051015</td>\n",
              "      <td>-0.101716</td>\n",
              "    </tr>\n",
              "    <tr>\n",
              "      <th>Gender</th>\n",
              "      <td>0.105724</td>\n",
              "      <td>1.000000</td>\n",
              "      <td>0.103052</td>\n",
              "      <td>0.070860</td>\n",
              "      <td>0.058259</td>\n",
              "      <td>0.019567</td>\n",
              "      <td>-0.010691</td>\n",
              "    </tr>\n",
              "    <tr>\n",
              "      <th>Income</th>\n",
              "      <td>-0.099886</td>\n",
              "      <td>0.103052</td>\n",
              "      <td>1.000000</td>\n",
              "      <td>0.059070</td>\n",
              "      <td>0.117574</td>\n",
              "      <td>0.051494</td>\n",
              "      <td>-0.016063</td>\n",
              "    </tr>\n",
              "    <tr>\n",
              "      <th>AdultWhales</th>\n",
              "      <td>0.090113</td>\n",
              "      <td>0.070860</td>\n",
              "      <td>0.059070</td>\n",
              "      <td>1.000000</td>\n",
              "      <td>-0.005848</td>\n",
              "      <td>0.243281</td>\n",
              "      <td>0.040078</td>\n",
              "    </tr>\n",
              "    <tr>\n",
              "      <th>YoungWhales</th>\n",
              "      <td>0.031347</td>\n",
              "      <td>0.058259</td>\n",
              "      <td>0.117574</td>\n",
              "      <td>-0.005848</td>\n",
              "      <td>1.000000</td>\n",
              "      <td>0.047691</td>\n",
              "      <td>0.012819</td>\n",
              "    </tr>\n",
              "    <tr>\n",
              "      <th>Max_wtp</th>\n",
              "      <td>-0.051015</td>\n",
              "      <td>0.019567</td>\n",
              "      <td>0.051494</td>\n",
              "      <td>0.243281</td>\n",
              "      <td>0.047691</td>\n",
              "      <td>1.000000</td>\n",
              "      <td>0.125401</td>\n",
              "    </tr>\n",
              "    <tr>\n",
              "      <th>PayConserve</th>\n",
              "      <td>-0.101716</td>\n",
              "      <td>-0.010691</td>\n",
              "      <td>-0.016063</td>\n",
              "      <td>0.040078</td>\n",
              "      <td>0.012819</td>\n",
              "      <td>0.125401</td>\n",
              "      <td>1.000000</td>\n",
              "    </tr>\n",
              "  </tbody>\n",
              "</table>\n",
              "</div>\n",
              "      <button class=\"colab-df-convert\" onclick=\"convertToInteractive('df-75da88c3-c084-4b5a-912c-6ed13cc52960')\"\n",
              "              title=\"Convert this dataframe to an interactive table.\"\n",
              "              style=\"display:none;\">\n",
              "        \n",
              "  <svg xmlns=\"http://www.w3.org/2000/svg\" height=\"24px\"viewBox=\"0 0 24 24\"\n",
              "       width=\"24px\">\n",
              "    <path d=\"M0 0h24v24H0V0z\" fill=\"none\"/>\n",
              "    <path d=\"M18.56 5.44l.94 2.06.94-2.06 2.06-.94-2.06-.94-.94-2.06-.94 2.06-2.06.94zm-11 1L8.5 8.5l.94-2.06 2.06-.94-2.06-.94L8.5 2.5l-.94 2.06-2.06.94zm10 10l.94 2.06.94-2.06 2.06-.94-2.06-.94-.94-2.06-.94 2.06-2.06.94z\"/><path d=\"M17.41 7.96l-1.37-1.37c-.4-.4-.92-.59-1.43-.59-.52 0-1.04.2-1.43.59L10.3 9.45l-7.72 7.72c-.78.78-.78 2.05 0 2.83L4 21.41c.39.39.9.59 1.41.59.51 0 1.02-.2 1.41-.59l7.78-7.78 2.81-2.81c.8-.78.8-2.07 0-2.86zM5.41 20L4 18.59l7.72-7.72 1.47 1.35L5.41 20z\"/>\n",
              "  </svg>\n",
              "      </button>\n",
              "      \n",
              "  <style>\n",
              "    .colab-df-container {\n",
              "      display:flex;\n",
              "      flex-wrap:wrap;\n",
              "      gap: 12px;\n",
              "    }\n",
              "\n",
              "    .colab-df-convert {\n",
              "      background-color: #E8F0FE;\n",
              "      border: none;\n",
              "      border-radius: 50%;\n",
              "      cursor: pointer;\n",
              "      display: none;\n",
              "      fill: #1967D2;\n",
              "      height: 32px;\n",
              "      padding: 0 0 0 0;\n",
              "      width: 32px;\n",
              "    }\n",
              "\n",
              "    .colab-df-convert:hover {\n",
              "      background-color: #E2EBFA;\n",
              "      box-shadow: 0px 1px 2px rgba(60, 64, 67, 0.3), 0px 1px 3px 1px rgba(60, 64, 67, 0.15);\n",
              "      fill: #174EA6;\n",
              "    }\n",
              "\n",
              "    [theme=dark] .colab-df-convert {\n",
              "      background-color: #3B4455;\n",
              "      fill: #D2E3FC;\n",
              "    }\n",
              "\n",
              "    [theme=dark] .colab-df-convert:hover {\n",
              "      background-color: #434B5C;\n",
              "      box-shadow: 0px 1px 3px 1px rgba(0, 0, 0, 0.15);\n",
              "      filter: drop-shadow(0px 1px 2px rgba(0, 0, 0, 0.3));\n",
              "      fill: #FFFFFF;\n",
              "    }\n",
              "  </style>\n",
              "\n",
              "      <script>\n",
              "        const buttonEl =\n",
              "          document.querySelector('#df-75da88c3-c084-4b5a-912c-6ed13cc52960 button.colab-df-convert');\n",
              "        buttonEl.style.display =\n",
              "          google.colab.kernel.accessAllowed ? 'block' : 'none';\n",
              "\n",
              "        async function convertToInteractive(key) {\n",
              "          const element = document.querySelector('#df-75da88c3-c084-4b5a-912c-6ed13cc52960');\n",
              "          const dataTable =\n",
              "            await google.colab.kernel.invokeFunction('convertToInteractive',\n",
              "                                                     [key], {});\n",
              "          if (!dataTable) return;\n",
              "\n",
              "          const docLinkHtml = 'Like what you see? Visit the ' +\n",
              "            '<a target=\"_blank\" href=https://colab.research.google.com/notebooks/data_table.ipynb>data table notebook</a>'\n",
              "            + ' to learn more about interactive tables.';\n",
              "          element.innerHTML = '';\n",
              "          dataTable['output_type'] = 'display_data';\n",
              "          await google.colab.output.renderOutput(dataTable, element);\n",
              "          const docLink = document.createElement('div');\n",
              "          docLink.innerHTML = docLinkHtml;\n",
              "          element.appendChild(docLink);\n",
              "        }\n",
              "      </script>\n",
              "    </div>\n",
              "  </div>\n",
              "  "
            ]
          },
          "metadata": {},
          "execution_count": 259
        }
      ]
    },
    {
      "cell_type": "markdown",
      "source": [
        "Conclusión: La edad, el género y el ingreso en dólares australianes tienen una correlación negativa con la disposición a pagar 2 dolares semanales por 10 años patra la conservación de los espacios de avistamientos de ballenas.\n",
        "\n",
        "\n",
        "Mientras que el mayor de ballenas adultas vistas, el avistamiento de ballenas jovenes y la máxima disposición a pagar poseen una correlación positiva."
      ],
      "metadata": {
        "id": "vs_HbO659APs"
      }
    },
    {
      "cell_type": "code",
      "source": [
        "df.corr(method=\"spearman\")"
      ],
      "metadata": {
        "colab": {
          "base_uri": "https://localhost:8080/",
          "height": 333
        },
        "id": "sbViZPi8_xSX",
        "outputId": "cb06dcca-08f5-484b-c101-4e8dc1da4521"
      },
      "execution_count": 260,
      "outputs": [
        {
          "output_type": "execute_result",
          "data": {
            "text/plain": [
              "                  Age    Gender    Income  AdultWhales  YoungWhales   Max_wtp  \\\n",
              "Age          1.000000  0.108226 -0.057471     0.064349     0.040857 -0.191821   \n",
              "Gender       0.108226  1.000000  0.104436     0.039980     0.058259 -0.001200   \n",
              "Income      -0.057471  0.104436  1.000000     0.058659     0.121695  0.106140   \n",
              "AdultWhales  0.064349  0.039980  0.058659     1.000000    -0.012534  0.040770   \n",
              "YoungWhales  0.040857  0.058259  0.121695    -0.012534     1.000000  0.047573   \n",
              "Max_wtp     -0.191821 -0.001200  0.106140     0.040770     0.047573  1.000000   \n",
              "PayConserve -0.097485 -0.010691  0.003990     0.015463     0.012819  0.570777   \n",
              "\n",
              "             PayConserve  \n",
              "Age            -0.097485  \n",
              "Gender         -0.010691  \n",
              "Income          0.003990  \n",
              "AdultWhales     0.015463  \n",
              "YoungWhales     0.012819  \n",
              "Max_wtp         0.570777  \n",
              "PayConserve     1.000000  "
            ],
            "text/html": [
              "\n",
              "  <div id=\"df-b9a8efd5-d5c6-41c4-918b-7988309634e5\">\n",
              "    <div class=\"colab-df-container\">\n",
              "      <div>\n",
              "<style scoped>\n",
              "    .dataframe tbody tr th:only-of-type {\n",
              "        vertical-align: middle;\n",
              "    }\n",
              "\n",
              "    .dataframe tbody tr th {\n",
              "        vertical-align: top;\n",
              "    }\n",
              "\n",
              "    .dataframe thead th {\n",
              "        text-align: right;\n",
              "    }\n",
              "</style>\n",
              "<table border=\"1\" class=\"dataframe\">\n",
              "  <thead>\n",
              "    <tr style=\"text-align: right;\">\n",
              "      <th></th>\n",
              "      <th>Age</th>\n",
              "      <th>Gender</th>\n",
              "      <th>Income</th>\n",
              "      <th>AdultWhales</th>\n",
              "      <th>YoungWhales</th>\n",
              "      <th>Max_wtp</th>\n",
              "      <th>PayConserve</th>\n",
              "    </tr>\n",
              "  </thead>\n",
              "  <tbody>\n",
              "    <tr>\n",
              "      <th>Age</th>\n",
              "      <td>1.000000</td>\n",
              "      <td>0.108226</td>\n",
              "      <td>-0.057471</td>\n",
              "      <td>0.064349</td>\n",
              "      <td>0.040857</td>\n",
              "      <td>-0.191821</td>\n",
              "      <td>-0.097485</td>\n",
              "    </tr>\n",
              "    <tr>\n",
              "      <th>Gender</th>\n",
              "      <td>0.108226</td>\n",
              "      <td>1.000000</td>\n",
              "      <td>0.104436</td>\n",
              "      <td>0.039980</td>\n",
              "      <td>0.058259</td>\n",
              "      <td>-0.001200</td>\n",
              "      <td>-0.010691</td>\n",
              "    </tr>\n",
              "    <tr>\n",
              "      <th>Income</th>\n",
              "      <td>-0.057471</td>\n",
              "      <td>0.104436</td>\n",
              "      <td>1.000000</td>\n",
              "      <td>0.058659</td>\n",
              "      <td>0.121695</td>\n",
              "      <td>0.106140</td>\n",
              "      <td>0.003990</td>\n",
              "    </tr>\n",
              "    <tr>\n",
              "      <th>AdultWhales</th>\n",
              "      <td>0.064349</td>\n",
              "      <td>0.039980</td>\n",
              "      <td>0.058659</td>\n",
              "      <td>1.000000</td>\n",
              "      <td>-0.012534</td>\n",
              "      <td>0.040770</td>\n",
              "      <td>0.015463</td>\n",
              "    </tr>\n",
              "    <tr>\n",
              "      <th>YoungWhales</th>\n",
              "      <td>0.040857</td>\n",
              "      <td>0.058259</td>\n",
              "      <td>0.121695</td>\n",
              "      <td>-0.012534</td>\n",
              "      <td>1.000000</td>\n",
              "      <td>0.047573</td>\n",
              "      <td>0.012819</td>\n",
              "    </tr>\n",
              "    <tr>\n",
              "      <th>Max_wtp</th>\n",
              "      <td>-0.191821</td>\n",
              "      <td>-0.001200</td>\n",
              "      <td>0.106140</td>\n",
              "      <td>0.040770</td>\n",
              "      <td>0.047573</td>\n",
              "      <td>1.000000</td>\n",
              "      <td>0.570777</td>\n",
              "    </tr>\n",
              "    <tr>\n",
              "      <th>PayConserve</th>\n",
              "      <td>-0.097485</td>\n",
              "      <td>-0.010691</td>\n",
              "      <td>0.003990</td>\n",
              "      <td>0.015463</td>\n",
              "      <td>0.012819</td>\n",
              "      <td>0.570777</td>\n",
              "      <td>1.000000</td>\n",
              "    </tr>\n",
              "  </tbody>\n",
              "</table>\n",
              "</div>\n",
              "      <button class=\"colab-df-convert\" onclick=\"convertToInteractive('df-b9a8efd5-d5c6-41c4-918b-7988309634e5')\"\n",
              "              title=\"Convert this dataframe to an interactive table.\"\n",
              "              style=\"display:none;\">\n",
              "        \n",
              "  <svg xmlns=\"http://www.w3.org/2000/svg\" height=\"24px\"viewBox=\"0 0 24 24\"\n",
              "       width=\"24px\">\n",
              "    <path d=\"M0 0h24v24H0V0z\" fill=\"none\"/>\n",
              "    <path d=\"M18.56 5.44l.94 2.06.94-2.06 2.06-.94-2.06-.94-.94-2.06-.94 2.06-2.06.94zm-11 1L8.5 8.5l.94-2.06 2.06-.94-2.06-.94L8.5 2.5l-.94 2.06-2.06.94zm10 10l.94 2.06.94-2.06 2.06-.94-2.06-.94-.94-2.06-.94 2.06-2.06.94z\"/><path d=\"M17.41 7.96l-1.37-1.37c-.4-.4-.92-.59-1.43-.59-.52 0-1.04.2-1.43.59L10.3 9.45l-7.72 7.72c-.78.78-.78 2.05 0 2.83L4 21.41c.39.39.9.59 1.41.59.51 0 1.02-.2 1.41-.59l7.78-7.78 2.81-2.81c.8-.78.8-2.07 0-2.86zM5.41 20L4 18.59l7.72-7.72 1.47 1.35L5.41 20z\"/>\n",
              "  </svg>\n",
              "      </button>\n",
              "      \n",
              "  <style>\n",
              "    .colab-df-container {\n",
              "      display:flex;\n",
              "      flex-wrap:wrap;\n",
              "      gap: 12px;\n",
              "    }\n",
              "\n",
              "    .colab-df-convert {\n",
              "      background-color: #E8F0FE;\n",
              "      border: none;\n",
              "      border-radius: 50%;\n",
              "      cursor: pointer;\n",
              "      display: none;\n",
              "      fill: #1967D2;\n",
              "      height: 32px;\n",
              "      padding: 0 0 0 0;\n",
              "      width: 32px;\n",
              "    }\n",
              "\n",
              "    .colab-df-convert:hover {\n",
              "      background-color: #E2EBFA;\n",
              "      box-shadow: 0px 1px 2px rgba(60, 64, 67, 0.3), 0px 1px 3px 1px rgba(60, 64, 67, 0.15);\n",
              "      fill: #174EA6;\n",
              "    }\n",
              "\n",
              "    [theme=dark] .colab-df-convert {\n",
              "      background-color: #3B4455;\n",
              "      fill: #D2E3FC;\n",
              "    }\n",
              "\n",
              "    [theme=dark] .colab-df-convert:hover {\n",
              "      background-color: #434B5C;\n",
              "      box-shadow: 0px 1px 3px 1px rgba(0, 0, 0, 0.15);\n",
              "      filter: drop-shadow(0px 1px 2px rgba(0, 0, 0, 0.3));\n",
              "      fill: #FFFFFF;\n",
              "    }\n",
              "  </style>\n",
              "\n",
              "      <script>\n",
              "        const buttonEl =\n",
              "          document.querySelector('#df-b9a8efd5-d5c6-41c4-918b-7988309634e5 button.colab-df-convert');\n",
              "        buttonEl.style.display =\n",
              "          google.colab.kernel.accessAllowed ? 'block' : 'none';\n",
              "\n",
              "        async function convertToInteractive(key) {\n",
              "          const element = document.querySelector('#df-b9a8efd5-d5c6-41c4-918b-7988309634e5');\n",
              "          const dataTable =\n",
              "            await google.colab.kernel.invokeFunction('convertToInteractive',\n",
              "                                                     [key], {});\n",
              "          if (!dataTable) return;\n",
              "\n",
              "          const docLinkHtml = 'Like what you see? Visit the ' +\n",
              "            '<a target=\"_blank\" href=https://colab.research.google.com/notebooks/data_table.ipynb>data table notebook</a>'\n",
              "            + ' to learn more about interactive tables.';\n",
              "          element.innerHTML = '';\n",
              "          dataTable['output_type'] = 'display_data';\n",
              "          await google.colab.output.renderOutput(dataTable, element);\n",
              "          const docLink = document.createElement('div');\n",
              "          docLink.innerHTML = docLinkHtml;\n",
              "          element.appendChild(docLink);\n",
              "        }\n",
              "      </script>\n",
              "    </div>\n",
              "  </div>\n",
              "  "
            ]
          },
          "metadata": {},
          "execution_count": 260
        }
      ]
    },
    {
      "cell_type": "markdown",
      "source": [
        "Conclusión: Del cambio de método de Pearson a Spearman, se puede observar que los ingresos en dólares australianos pasan de tener una correlación negativa a una positiva.\n",
        "\n",
        "Mientras que las demás variables no se ven alteradas en el sentido de su correlación."
      ],
      "metadata": {
        "id": "1yOIvQyc9DYK"
      }
    },
    {
      "cell_type": "markdown",
      "source": [
        "# Modelamiento"
      ],
      "metadata": {
        "id": "-UxU41IM_7JZ"
      }
    },
    {
      "cell_type": "code",
      "source": [
        "y=df['PayConserve']\n",
        "X= sm.add_constant(df[['Max_wtp','Income','AdultWhales','YoungWhales','Gender','Age']])\n",
        "model= sm.OLS(y,X)\n",
        "reg=model.fit()\n",
        "reg.summary()"
      ],
      "metadata": {
        "colab": {
          "base_uri": "https://localhost:8080/",
          "height": 648
        },
        "id": "GkTqjrQw_16n",
        "outputId": "634d14dd-99e5-40ac-b5b5-2a2d93d27b11"
      },
      "execution_count": 261,
      "outputs": [
        {
          "output_type": "stream",
          "name": "stderr",
          "text": [
            "/usr/local/lib/python3.7/dist-packages/statsmodels/tsa/tsatools.py:142: FutureWarning: In a future version of pandas all arguments of concat except for the argument 'objs' will be keyword-only\n",
            "  x = pd.concat(x[::order], 1)\n"
          ]
        },
        {
          "output_type": "execute_result",
          "data": {
            "text/plain": [
              "<class 'statsmodels.iolib.summary.Summary'>\n",
              "\"\"\"\n",
              "                            OLS Regression Results                            \n",
              "==============================================================================\n",
              "Dep. Variable:            PayConserve   R-squared:                       0.027\n",
              "Model:                            OLS   Adj. R-squared:                  0.018\n",
              "Method:                 Least Squares   F-statistic:                     3.006\n",
              "Date:                Sat, 29 Oct 2022   Prob (F-statistic):            0.00663\n",
              "Time:                        04:55:16   Log-Likelihood:                -435.24\n",
              "No. Observations:                 668   AIC:                             884.5\n",
              "Df Residuals:                     661   BIC:                             916.0\n",
              "Df Model:                           6                                         \n",
              "Covariance Type:            nonrobust                                         \n",
              "===============================================================================\n",
              "                  coef    std err          t      P>|t|      [0.025      0.975]\n",
              "-------------------------------------------------------------------------------\n",
              "const           0.7914      0.073     10.900      0.000       0.649       0.934\n",
              "Max_wtp         0.0029      0.001      2.910      0.004       0.001       0.005\n",
              "Income      -6.306e-07   7.02e-07     -0.898      0.369   -2.01e-06    7.48e-07\n",
              "AdultWhales     0.0029      0.005      0.585      0.559      -0.007       0.013\n",
              "YoungWhales     0.0159      0.042      0.383      0.702      -0.066       0.098\n",
              "Gender         -0.0011      0.038     -0.028      0.978      -0.075       0.073\n",
              "Age            -0.0031      0.001     -2.601      0.010      -0.005      -0.001\n",
              "==============================================================================\n",
              "Omnibus:                     5965.940   Durbin-Watson:                   1.945\n",
              "Prob(Omnibus):                  0.000   Jarque-Bera (JB):              112.245\n",
              "Skew:                          -0.682   Prob(JB):                     4.23e-25\n",
              "Kurtosis:                       1.525   Cond. No.                     2.14e+05\n",
              "==============================================================================\n",
              "\n",
              "Notes:\n",
              "[1] Standard Errors assume that the covariance matrix of the errors is correctly specified.\n",
              "[2] The condition number is large, 2.14e+05. This might indicate that there are\n",
              "strong multicollinearity or other numerical problems.\n",
              "\"\"\""
            ],
            "text/html": [
              "<table class=\"simpletable\">\n",
              "<caption>OLS Regression Results</caption>\n",
              "<tr>\n",
              "  <th>Dep. Variable:</th>       <td>PayConserve</td>   <th>  R-squared:         </th> <td>   0.027</td>\n",
              "</tr>\n",
              "<tr>\n",
              "  <th>Model:</th>                   <td>OLS</td>       <th>  Adj. R-squared:    </th> <td>   0.018</td>\n",
              "</tr>\n",
              "<tr>\n",
              "  <th>Method:</th>             <td>Least Squares</td>  <th>  F-statistic:       </th> <td>   3.006</td>\n",
              "</tr>\n",
              "<tr>\n",
              "  <th>Date:</th>             <td>Sat, 29 Oct 2022</td> <th>  Prob (F-statistic):</th>  <td>0.00663</td>\n",
              "</tr>\n",
              "<tr>\n",
              "  <th>Time:</th>                 <td>04:55:16</td>     <th>  Log-Likelihood:    </th> <td> -435.24</td>\n",
              "</tr>\n",
              "<tr>\n",
              "  <th>No. Observations:</th>      <td>   668</td>      <th>  AIC:               </th> <td>   884.5</td>\n",
              "</tr>\n",
              "<tr>\n",
              "  <th>Df Residuals:</th>          <td>   661</td>      <th>  BIC:               </th> <td>   916.0</td>\n",
              "</tr>\n",
              "<tr>\n",
              "  <th>Df Model:</th>              <td>     6</td>      <th>                     </th>     <td> </td>   \n",
              "</tr>\n",
              "<tr>\n",
              "  <th>Covariance Type:</th>      <td>nonrobust</td>    <th>                     </th>     <td> </td>   \n",
              "</tr>\n",
              "</table>\n",
              "<table class=\"simpletable\">\n",
              "<tr>\n",
              "       <td></td>          <th>coef</th>     <th>std err</th>      <th>t</th>      <th>P>|t|</th>  <th>[0.025</th>    <th>0.975]</th>  \n",
              "</tr>\n",
              "<tr>\n",
              "  <th>const</th>       <td>    0.7914</td> <td>    0.073</td> <td>   10.900</td> <td> 0.000</td> <td>    0.649</td> <td>    0.934</td>\n",
              "</tr>\n",
              "<tr>\n",
              "  <th>Max_wtp</th>     <td>    0.0029</td> <td>    0.001</td> <td>    2.910</td> <td> 0.004</td> <td>    0.001</td> <td>    0.005</td>\n",
              "</tr>\n",
              "<tr>\n",
              "  <th>Income</th>      <td>-6.306e-07</td> <td> 7.02e-07</td> <td>   -0.898</td> <td> 0.369</td> <td>-2.01e-06</td> <td> 7.48e-07</td>\n",
              "</tr>\n",
              "<tr>\n",
              "  <th>AdultWhales</th> <td>    0.0029</td> <td>    0.005</td> <td>    0.585</td> <td> 0.559</td> <td>   -0.007</td> <td>    0.013</td>\n",
              "</tr>\n",
              "<tr>\n",
              "  <th>YoungWhales</th> <td>    0.0159</td> <td>    0.042</td> <td>    0.383</td> <td> 0.702</td> <td>   -0.066</td> <td>    0.098</td>\n",
              "</tr>\n",
              "<tr>\n",
              "  <th>Gender</th>      <td>   -0.0011</td> <td>    0.038</td> <td>   -0.028</td> <td> 0.978</td> <td>   -0.075</td> <td>    0.073</td>\n",
              "</tr>\n",
              "<tr>\n",
              "  <th>Age</th>         <td>   -0.0031</td> <td>    0.001</td> <td>   -2.601</td> <td> 0.010</td> <td>   -0.005</td> <td>   -0.001</td>\n",
              "</tr>\n",
              "</table>\n",
              "<table class=\"simpletable\">\n",
              "<tr>\n",
              "  <th>Omnibus:</th>       <td>5965.940</td> <th>  Durbin-Watson:     </th> <td>   1.945</td>\n",
              "</tr>\n",
              "<tr>\n",
              "  <th>Prob(Omnibus):</th>  <td> 0.000</td>  <th>  Jarque-Bera (JB):  </th> <td> 112.245</td>\n",
              "</tr>\n",
              "<tr>\n",
              "  <th>Skew:</th>           <td>-0.682</td>  <th>  Prob(JB):          </th> <td>4.23e-25</td>\n",
              "</tr>\n",
              "<tr>\n",
              "  <th>Kurtosis:</th>       <td> 1.525</td>  <th>  Cond. No.          </th> <td>2.14e+05</td>\n",
              "</tr>\n",
              "</table><br/><br/>Notes:<br/>[1] Standard Errors assume that the covariance matrix of the errors is correctly specified.<br/>[2] The condition number is large, 2.14e+05. This might indicate that there are<br/>strong multicollinearity or other numerical problems."
            ]
          },
          "metadata": {},
          "execution_count": 261
        }
      ]
    },
    {
      "cell_type": "markdown",
      "source": [
        "Conclusión: \n",
        "\n",
        "Las variables que no son significativas en este modelo económico son el ingreso y la máxima disposición a pagar.\n",
        "\n",
        "Mientras que las otras variables (Número de ballenas adultas vistas, el avistamiento de ballenas jóvenes, el género del individuo y la edad) son significativas ya que tienen un P-Valor mayor a 0.05."
      ],
      "metadata": {
        "id": "8bGOQ0up_LuX"
      }
    },
    {
      "cell_type": "markdown",
      "source": [
        "¿Cuál es el efecto de haber visto ballenas (adultas o jóvenes) en la probabilidad de pagar por conservar 2 dólares cada semana durante 10 años?\n",
        "\n",
        "\n",
        "R//En proporción, el porcentaje de personas que han visto ballenas y están dispuestos a pagar por la conservación del espacio es mayor al porcentaje de personas que no han visto ballenas y están dispuestas a pagar. \n",
        "Por ende, el haber visto ballenas tiene un efecto positivo en los individuos para pagar de 2 dólares semanales para la conservación del espacio.\n",
        "\n",
        "Al haber visto ballenas jovenes tiene más efecto en la disposición a pagar 2 dólares cada semana durante 10 años por la conservación de lugares de avistamiento de ballenas en comparación con el número de ballenas adultas vistas.\n",
        "\n"
      ],
      "metadata": {
        "id": "hnrf3jnepw1V"
      }
    },
    {
      "cell_type": "code",
      "source": [],
      "metadata": {
        "id": "X1iFVRVCAR-v"
      },
      "execution_count": 261,
      "outputs": []
    }
  ]
}